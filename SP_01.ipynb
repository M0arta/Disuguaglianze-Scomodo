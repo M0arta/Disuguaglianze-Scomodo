{
 "cells": [
  {
   "cell_type": "markdown",
   "metadata": {},
   "source": [
    "# Scientific Python\n",
    "## Central European University\n",
    "\n",
    "## 01 Getting started, basic data types and control flow\n",
    "\n",
    "\n",
    "Instructor: Márton Pósfai, TA: Luka Blagojevic\n",
    "\n",
    "Email: posfaim@ceu.edu, Blagojevic_Luka@phd.ceu.edu"
   ]
  },
  {
   "cell_type": "markdown",
   "metadata": {},
   "source": [
    "## Structure of the class\n",
    "\n",
    "In most courses, you cover new materials during in-person classes, and you are asked to practice and do homework afterwards. Scientific Python this term will follow an opposite scheme: \n",
    "\n",
    "* We will meet for the first class normally. \n",
    "* Starting from the second week, you must work through the new material before the class by completing a Jupyter notebook that contains detailed explanations, videos, examples, and exercises. You can find an example notebook here (you need to install Jupyter to open the notebook). \n",
    "* After a short recap of the new material, the in-person classes are devoted to practice exercises and answering questions. By the end of the in-person sessions you have to solve and submit a final problem that contributes to your final grade. \n",
    "\n",
    "If you have any questions or you get stuck with one of the exercises during the week we will be available on [slack](http://www.personal.ceu.edu/staff/Marton_Posfai/slack_signup_forward.html). You are encouraged to answer each others questions."
   ]
  },
  {
   "cell_type": "markdown",
   "metadata": {},
   "source": [
    "## Goal of the course\n",
    "\n",
    "* Explore python tools for data analysis\n",
    "* More importantly: Internalize the logic of programming with python\n",
    "* Prerequisite for other courses\n",
    "* Diverse incoming coding experience -> narrow the gap\n",
    "<img src='http://www.personal.ceu.edu/staff/Marton_Posfai/skill_goals.png' width=66%>"
   ]
  },
  {
   "cell_type": "markdown",
   "metadata": {},
   "source": [
    "## How to get the most from the class?\n",
    "\n",
    "* Arrive prepared for the week\n",
    "* Try to solve the exercises before looking at the solution\n",
    "* Ask questions\n",
    "* Explore and show alternative solutions"
   ]
  },
  {
   "cell_type": "markdown",
   "metadata": {},
   "source": [
    "## Assessment\n",
    "\n",
    "### 1 Notebooks\n",
    "* 50% of the final grade\n",
    "* You have to upload a solution to a final problem at the end of each notebook\n",
    "* Minimum requirement: upload an attempt at a solution\n",
    "* Solutions will be graded\n",
    "\n",
    "### 2 Final project\n",
    "* 50% of the final grade\n",
    "* Your project should perform a self-contained analysis of some empirical dataset\n",
    "* Make use of Python tools that you newly learned\n",
    "* More details about the requirements later\n",
    "* The final deadline is the end of the term\n",
    "\n",
    "### Extra credit\n",
    "* Participate in discussions on slack at least five times --> +1% extra credit\n",
    "* Challenges: Occasional harder problems\n",
    "\n",
    "### University-wide Grade table\n",
    "|| ||\n",
    "| :--- | :---: | :---: |\n",
    "|A\t|\t96\t|\t100|\n",
    "|A-\t|\t88\t|\t95|\n",
    "|B+\t|\t80\t|\t87|\n",
    "|B\t|\t71\t|\t79|\n",
    "|B-\t|\t63\t|\t70|\n",
    "|C+\t|\t58\t|\t62|"
   ]
  },
  {
   "cell_type": "markdown",
   "metadata": {},
   "source": [
    "## Today's plan\n",
    "* Why Python and Jupyter notebook?\n",
    "* Using Jupyter Notebooks\n",
    "* Basic data types\n",
    "* Basic flow control\n"
   ]
  },
  {
   "cell_type": "markdown",
   "metadata": {},
   "source": [
    "## Intro\n",
    "\n",
    "### Short story of python\n",
    "\n",
    "* Small home hobby project of Guido van Rossum. First interpreter written over Christmas holiday\n",
    "* Aim: script language with minimal core, highly extendible with modules, and \"batteries included\"\n",
    "* Each module has its own small developer and support group\n",
    "* Python is object-oriented, has dynamic typing, and memory management\n",
    "* Focus is on readibility and not optimization\n",
    "* Two main version: 2 and 3. Many people use both. Newest versions are 2.7 and 3.8. They are in mostly compatible (2.7 evolved to be more compatible with 3) but there are some differences. On older systems the default is 2, the support to Python 2 has ended on <a href=\"http://python3statement.org/\">January 1, 2020</a>. We will use Python 3.\n",
    "* Check which version are you running:"
   ]
  },
  {
   "cell_type": "code",
   "execution_count": null,
   "metadata": {},
   "outputs": [],
   "source": [
    "from platform import python_version\n",
    "print(python_version())"
   ]
  },
  {
   "cell_type": "markdown",
   "metadata": {},
   "source": [
    "If you see 3.x, you are good to go. If you see 2.x, create a new environment in Anaconda with Python 3."
   ]
  },
  {
   "cell_type": "markdown",
   "metadata": {},
   "source": [
    "### Why Python?\n",
    "\n",
    "* High-level, easy to use (a lot gets done in the background that we don't have to care about)\n",
    "* Cross-platform (although most data-centric work uses Linux or Mac)\n",
    "* Popular (lot of support, lot of modules)"
   ]
  },
  {
   "cell_type": "markdown",
   "metadata": {},
   "source": [
    "Our tools:\n",
    "* **Anaconda**: cross-platform package and environment manager\n",
    "* **python**: interpreter that takes code as input and runs it\n",
    "* **Ipython**: interactive python, python + some user friendly features (e.g., [magic commands](https://ipython.readthedocs.io/en/stable/interactive/magics.html))\n",
    "* **Jupyter notebook**: combines code and formatted text, runs Ipython"
   ]
  },
  {
   "cell_type": "markdown",
   "metadata": {},
   "source": [
    "### Jupyter notebooks\n",
    "* Traditional Python script file, e.g., `my_code.py`:\n",
    "    * Text file that contains code + unformatted comments\n",
    "    * You have to save the output and present it separately \n",
    "* Jupyter Notebook:\n",
    "    * Contains code + output of the code + formatted text (equations, images, links, etc.)\n",
    "    * Publish it together with your paper -> increase reproducability\n",
    "    * Exploratory data analysis, prototyping -> keep track of what you are doing"
   ]
  },
  {
   "cell_type": "markdown",
   "metadata": {},
   "source": [
    "### Code"
   ]
  },
  {
   "cell_type": "code",
   "execution_count": null,
   "metadata": {},
   "outputs": [],
   "source": [
    "print(\"Hello!\")"
   ]
  },
  {
   "cell_type": "markdown",
   "metadata": {},
   "source": [
    "### Markdown\n",
    "1. This is a <i>markdown</i> cell, you can change it in the menu\n",
    "2. It is a rich text and it understands both html and mediawiki marks\n",
    "3. Find out more about markdown [ here](https://en.wikipedia.org/wiki/Markdown) and [ here](https://jupyter-notebook.readthedocs.io/en/stable/examples/Notebook/Working%20With%20Markdown%20Cells.html).\n",
    "4. You can also typeset equations like in wikipedia or latex. e.g. $\\sqrt{x^2}=|x|$, or\n",
    "$$\\sum_{i=1}^\\infty \\frac{1}{2^i}=1$$\n",
    "5. Double click to edit"
   ]
  },
  {
   "cell_type": "markdown",
   "metadata": {},
   "source": [
    "### Help!\n",
    "The most helpful IPython functions:\n",
    "\n",
    "|Command|Description\n",
    "|:---|:---\n",
    "|?|Introduction and overview of IPython's features.\n",
    "|%quickref|Quick reference.\n",
    "|help|Python's own help system.\n",
    "|object?|Details about the object"
   ]
  },
  {
   "cell_type": "code",
   "execution_count": null,
   "metadata": {},
   "outputs": [],
   "source": [
    "?print"
   ]
  },
  {
   "cell_type": "code",
   "execution_count": null,
   "metadata": {},
   "outputs": [],
   "source": [
    "%quickref"
   ]
  },
  {
   "cell_type": "code",
   "execution_count": null,
   "metadata": {},
   "outputs": [],
   "source": [
    "help(print)"
   ]
  },
  {
   "cell_type": "code",
   "execution_count": null,
   "metadata": {},
   "outputs": [],
   "source": [
    "c=2\n",
    "c?"
   ]
  },
  {
   "cell_type": "markdown",
   "metadata": {},
   "source": [
    "### Most useful way to get help:\n",
    "* [google.com](https://lmgtfy.com/?q=why+doesn%27t+my+python+code+work)\n",
    "* [stackoverflow.com](https://stackoverflow.com/questions/27156381/python-creating-a-2d-histogram-from-a-numpy-matrix)"
   ]
  },
  {
   "cell_type": "markdown",
   "metadata": {},
   "source": [
    "## Variable types\n",
    "|Type|Name|Example\n",
    "|---|---|---\n",
    "|int|Integer|30,-4\n",
    "|float|Floating point|1.5,1e10\n",
    "|str|String|\"alma\",\"c\"\n",
    "|bool|Boolean|True,False\n",
    "|list|List|\\[1,\"alma\",2\\]\n",
    "|dict|Dictionary|\\{'course': \"SciPy\", 'teacher': \"JT\"\\}"
   ]
  },
  {
   "cell_type": "code",
   "execution_count": null,
   "metadata": {},
   "outputs": [],
   "source": [
    "a = 7\n",
    "b = 3.14\n",
    "c = True\n",
    "d = \"alma\"\n",
    "e = [1, 2]\n",
    "f = {'course': \"SciPy\", 'teacher': \"JT\", }\n",
    "type(a),type(b),type(c),type(d),type(e),type(f)"
   ]
  },
  {
   "cell_type": "markdown",
   "metadata": {},
   "source": [
    "## Integer numbers\n",
    "\n",
    "How does division of integers work? Try out: division, integer division, remainder, rounding:"
   ]
  },
  {
   "cell_type": "code",
   "execution_count": null,
   "metadata": {},
   "outputs": [],
   "source": [
    "print(14 / 4)\n",
    "print(14 // 4)\n",
    "print(14 % 4)\n",
    "print(round(14 / 4))\n",
    "print(int(14 / 4))"
   ]
  },
  {
   "cell_type": "markdown",
   "metadata": {},
   "source": [
    "Importance of the order of the operators. Precedence:\n",
    "1. ()\n",
    "2. **\n",
    "3. *, /, //, %\n",
    "4. +, -\n",
    "\n",
    "When in doubt use paranthesis."
   ]
  },
  {
   "cell_type": "code",
   "execution_count": null,
   "metadata": {
    "scrolled": true
   },
   "outputs": [],
   "source": [
    "print(1 + 2 * 3 + 2 / 2)\n",
    "print(2 / 2 * 3)\n",
    "print(2 / (2 * 3))\n",
    "\n",
    "print()\n",
    "print(2 / 2**3)\n",
    "print( (2 / 2)**3 )"
   ]
  },
  {
   "cell_type": "markdown",
   "metadata": {},
   "source": [
    "## Floating point number\n",
    "$$1.2345 = \\underbrace{12345}_\\text{significand} \\times \\underbrace{10}_\\text{base}{\\!}^{\\overbrace{-4}^\\text{exponent}}$$"
   ]
  },
  {
   "cell_type": "code",
   "execution_count": null,
   "metadata": {
    "scrolled": false
   },
   "outputs": [],
   "source": [
    "import sys # this module allows us to extract information about the system you are using \n",
    "sys.float_info"
   ]
  },
  {
   "cell_type": "markdown",
   "metadata": {},
   "source": [
    "What does this mean?\n",
    "* *max*: maximum representable number\n",
    "* *max_exp*, *max_10_exp*: maximum value of exponent in base 2 and base 10\n",
    "* *dig*: maximum number of decimal digits that can be faithfully represented\n",
    "* *epsilon*: difference between 1.0 and the least value greater than 1.0 that is representable as a float\n",
    "\n",
    "<a href=\"https://docs.python.org/3/library/sys.html\">Details in the documentation.</a>"
   ]
  },
  {
   "cell_type": "markdown",
   "metadata": {},
   "source": [
    "Ways to write a literal float:"
   ]
  },
  {
   "cell_type": "code",
   "execution_count": null,
   "metadata": {
    "scrolled": true
   },
   "outputs": [],
   "source": [
    "print(1) #integer\n",
    "print(float(1), 1.) #floats\n",
    "print(1.5)\n",
    "print(1e4)\n",
    "print(1e-4)\n",
    "print(15e2)\n",
    "print(1.5e3)"
   ]
  },
  {
   "cell_type": "markdown",
   "metadata": {},
   "source": [
    "Now we can try out epsilon from `sys.float_info`: "
   ]
  },
  {
   "cell_type": "code",
   "execution_count": null,
   "metadata": {},
   "outputs": [],
   "source": [
    "print(1 + 1e-10 - 1)\n",
    "print(1 + 1e-16 - 1)  # too small to add"
   ]
  },
  {
   "cell_type": "code",
   "execution_count": null,
   "metadata": {},
   "outputs": [],
   "source": [
    ".2+.2+.2==.6"
   ]
  },
  {
   "cell_type": "markdown",
   "metadata": {},
   "source": [
    "Please note that type of a variable may change in runtime"
   ]
  },
  {
   "cell_type": "code",
   "execution_count": null,
   "metadata": {},
   "outputs": [],
   "source": [
    "a = 2\n",
    "print(a,type(a))\n",
    "a /= 2\n",
    "print(a,type(a))"
   ]
  },
  {
   "cell_type": "code",
   "execution_count": null,
   "metadata": {},
   "outputs": [],
   "source": [
    ".2+.2+.2==.6"
   ]
  },
  {
   "cell_type": "markdown",
   "metadata": {},
   "source": [
    "## Functions and modules\n",
    "\n",
    "Most of the functionality in Python is provided by *modules*, such as access to the operating system, file I/O, string management, network communication, and much more. We will use some of these modules along the course.\n",
    "\n",
    "<b>To use a module</b> in a Python program it first has <b>to be imported</b>. A module can be imported using the `import` statement. For example, to import the module `math`, which contains many standard mathematical functions, we can do:"
   ]
  },
  {
   "cell_type": "code",
   "execution_count": null,
   "metadata": {},
   "outputs": [],
   "source": [
    "import math\n",
    "\n",
    "print(math.sqrt(4))\n",
    "print(math.log10(1000))\n",
    "print(math.log(math.e**5))\n",
    "print(math.pi)\n",
    "print(math.cos(math.pi * 0.5))\n",
    "print(math.pow(3,10))"
   ]
  },
  {
   "cell_type": "code",
   "execution_count": null,
   "metadata": {},
   "outputs": [],
   "source": [
    "from math import sqrt\n",
    "from math import *\n",
    "import math as ma\n",
    "\n",
    "print(sqrt(9),ma.pi)"
   ]
  },
  {
   "cell_type": "markdown",
   "metadata": {},
   "source": [
    "## Boolean\n",
    "It can only be True or False"
   ]
  },
  {
   "cell_type": "code",
   "execution_count": null,
   "metadata": {},
   "outputs": [],
   "source": [
    "a = True\n",
    "b = (0 == 1)\n",
    "c = (2**3 == 8.0)\n",
    "d = bool(0)\n",
    "e = bool(3.14)\n",
    "print(a,b,c,d,e)"
   ]
  },
  {
   "cell_type": "markdown",
   "metadata": {},
   "source": [
    "Comparison operators:"
   ]
  },
  {
   "cell_type": "code",
   "execution_count": null,
   "metadata": {},
   "outputs": [],
   "source": [
    "print(1 == 1) # equal\n",
    "print(1 < 1) # less\n",
    "print(1 <= 1) # less or equal\n",
    "print(1 < 1 or 1 == 1) # less OR equal\n",
    "print(1 != 1 and 1 == 1) # not equal AND equal|\n",
    "print((5 == 5)*1, (5 == 4)*2 + 3)"
   ]
  },
  {
   "cell_type": "markdown",
   "metadata": {},
   "source": [
    "## Strings\n",
    "\n",
    "Text inside quotation marks (you can use either `\"` or `'`):"
   ]
  },
  {
   "cell_type": "code",
   "execution_count": null,
   "metadata": {},
   "outputs": [],
   "source": [
    "s1 = \"apple\"\n",
    "print(s1)\n",
    "s2= 'apple'\n",
    "print(s2)\n",
    "print(s1==s2)"
   ]
  },
  {
   "cell_type": "markdown",
   "metadata": {},
   "source": [
    "### Escape sequences\n",
    "When writing a literal string, we can include characters with special meaning using escape sequences. For example, `\"` can mark the end of the string, to include it inside the string, we write `\\\"`:"
   ]
  },
  {
   "cell_type": "code",
   "execution_count": null,
   "metadata": {},
   "outputs": [],
   "source": [
    "print(\"\\tapple\\n\\\"pear\\\"\\\\'\")"
   ]
  },
  {
   "cell_type": "markdown",
   "metadata": {},
   "source": [
    "Note:"
   ]
  },
  {
   "cell_type": "code",
   "execution_count": null,
   "metadata": {},
   "outputs": [],
   "source": [
    "print(\"'\",'\"',\"\\\"\",'\\\"')"
   ]
  },
  {
   "cell_type": "markdown",
   "metadata": {},
   "source": [
    "List of escape sequences (some are antiquated, e.g., `\\a`):"
   ]
  },
  {
   "cell_type": "markdown",
   "metadata": {},
   "source": [
    "<table border align=\"center\" style=\"border-collapse: collapse\">\n",
    "  <thead>\n",
    "    <tr class=\"tableheader\">\n",
    "      <th align=\"left\"><b>Escape Sequence</b>&nbsp;</th>\n",
    "      <th align=\"left\"><b>Meaning</b>&nbsp;</th>\n",
    "    </thead>\n",
    "  <tbody valign='baseline'>\n",
    "    <tr><td align=\"left\" valign=\"baseline\"><code>&#92;<var>newline</var></code></td>\n",
    "        <td align=\"left\">Ignored</td>\n",
    "    <tr><td align=\"left\" valign=\"baseline\"><code>&#92;&#92;</code></td>\n",
    "        <td align=\"left\">Backslash (<code>&#92;</code>)</td>\n",
    "    <tr><td align=\"left\" valign=\"baseline\"><code>&#92;'</code></td>\n",
    "        <td align=\"left\">Single quote (<code>'</code>)</td>\n",
    "    <tr><td align=\"left\" valign=\"baseline\"><code>&#92;\"</code></td>\n",
    "        <td align=\"left\">Double quote (<code>\"</code>)</td>\n",
    "    <tr><td align=\"left\" valign=\"baseline\"><code>&#92;a</code></td>\n",
    "        <td align=\"left\">ASCII Bell (BEL)</td>\n",
    "    <tr><td align=\"left\" valign=\"baseline\"><code>&#92;b</code></td>\n",
    "        <td align=\"left\">ASCII Backspace (BS)</td>\n",
    "    <tr><td align=\"left\" valign=\"baseline\"><code>&#92;f</code></td>\n",
    "        <td align=\"left\">ASCII Formfeed (FF)</td>\n",
    "    <tr><td align=\"left\" valign=\"baseline\"><code>&#92;n</code></td>\n",
    "        <td align=\"left\">ASCII Linefeed (LF)</td>\n",
    "    <tr><td align=\"left\" valign=\"baseline\"><code>&#92;r</code></td>\n",
    "        <td align=\"left\">ASCII Carriage Return (CR)</td>\n",
    "    <tr><td align=\"left\" valign=\"baseline\"><code>&#92;t</code></td>\n",
    "        <td align=\"left\">ASCII Horizontal Tab (TAB)</td>\n",
    "    <tr><td align=\"left\" valign=\"baseline\"><code>&#92;v</code></td>\n",
    "        <td align=\"left\">ASCII Vertical Tab (VT)</td>\n",
    "    <tr><td align=\"left\" valign=\"baseline\"><code>&#92;<var>ooo</var></code></td>\n",
    "        <td align=\"left\">ASCII character with octal value <i>ooo</i></td>\n",
    "    <tr><td align=\"left\" valign=\"baseline\"><code>&#92;x<var>hh...</var></code></td>\n",
    "        <td align=\"left\">ASCII character with hex value <i>hh...</i></td></tbody>\n",
    "</table>"
   ]
  },
  {
   "cell_type": "markdown",
   "metadata": {},
   "source": [
    "Prepending an `r` to a string means raw string and escape sequences are ignored:"
   ]
  },
  {
   "cell_type": "code",
   "execution_count": null,
   "metadata": {},
   "outputs": [],
   "source": [
    "print(\"a\\bpple\",r\"a\\bpple\")\n",
    "print(r'C:\\some\\name')"
   ]
  },
  {
   "cell_type": "markdown",
   "metadata": {},
   "source": [
    "### Operators, conversions\n",
    "\n",
    "Concatenating strings:"
   ]
  },
  {
   "cell_type": "code",
   "execution_count": null,
   "metadata": {},
   "outputs": [],
   "source": [
    "\"app\" + \"le\""
   ]
  },
  {
   "cell_type": "markdown",
   "metadata": {},
   "source": [
    "Convert strings to numbers and numbers to strings:"
   ]
  },
  {
   "cell_type": "code",
   "execution_count": null,
   "metadata": {},
   "outputs": [],
   "source": [
    "str(9), float(\"4.5\"), int(\"4\")"
   ]
  },
  {
   "cell_type": "code",
   "execution_count": null,
   "metadata": {
    "scrolled": true
   },
   "outputs": [],
   "source": [
    "a = eval(\"1+1\")\n",
    "print(a)\n",
    "b = a + 2\n",
    "print(b)"
   ]
  },
  {
   "cell_type": "markdown",
   "metadata": {},
   "source": [
    "Include variables formatted strings, there are several options.\n",
    "\n",
    "**Method 0**: We can convert to a string and concatenate:"
   ]
  },
  {
   "cell_type": "code",
   "execution_count": null,
   "metadata": {},
   "outputs": [],
   "source": [
    "N = 1500\n",
    "\n",
    "print(\"The value of N (=\" + str(N) + \") is greater than allowed (1000)\")"
   ]
  },
  {
   "cell_type": "markdown",
   "metadata": {},
   "source": [
    "This is more of a workaround, not flexible.\n",
    "\n",
    "**Method 1**: We can use so-called printf-style formatting (borrowed from C's `printf()` function) using the `%` operator:"
   ]
  },
  {
   "cell_type": "code",
   "execution_count": null,
   "metadata": {},
   "outputs": [],
   "source": [
    "print(\"The value of N (=%d) is greater than allowed (1000)\" % N)"
   ]
  },
  {
   "cell_type": "markdown",
   "metadata": {},
   "source": [
    "Here `%d` means insert decimal integer here, other common placeholders: `%f`=float, `%s`=string. We can have multiple conversions in a string and we can add additional format specifications:"
   ]
  },
  {
   "cell_type": "code",
   "execution_count": null,
   "metadata": {},
   "outputs": [],
   "source": [
    "d = 3\n",
    "c = 1\n",
    "b = 7\n",
    "N = b + c + d\n",
    "print(\"Peter has %d dogs, %d cats and %d birds\" % (d, c, b))\n",
    "print(\"%3.10f%%, %20.1f%%, %3.f%% of the animals are dogs, cats and birds respectively.\" % \\\n",
    "     (100.0 * d / N, 100.0 * c / N, 100.0 * b / N))"
   ]
  },
  {
   "cell_type": "markdown",
   "metadata": {},
   "source": [
    "In `%3.4f` `3` gives the minimum field with, and `.4` sets the precision. Try changing it!\n",
    "\n",
    "Also, note that to include a literal `%` we have to escape it, i.e., write `%%`."
   ]
  },
  {
   "cell_type": "markdown",
   "metadata": {},
   "source": [
    "For further details check <a href=\"https://docs.python.org/3/library/stdtypes.html#old-string-formatting\">documentation</a>. This is the oldest method, it has trouble converting tuples and dictionaries (which we have not yet talked about), to overcome this new methods were introduced."
   ]
  },
  {
   "cell_type": "markdown",
   "metadata": {},
   "source": [
    "**Method 2**: Using the `.format()`"
   ]
  },
  {
   "cell_type": "code",
   "execution_count": null,
   "metadata": {},
   "outputs": [],
   "source": [
    "print(\"{:2.1f}%, {:2.1f}%, {:2.1f}% of the animals are dogs, cats and birds respectively.\"\\\n",
    "      .format(100.0 * d / N, 100.0 * c / N, 100.0 * b / N))"
   ]
  },
  {
   "cell_type": "code",
   "execution_count": null,
   "metadata": {},
   "outputs": [],
   "source": [
    "import math\n",
    "\n",
    "\"{1:.10f} {1:.4f} {0:.2f}\".format(math.pi, 2*math.pi)"
   ]
  },
  {
   "cell_type": "markdown",
   "metadata": {},
   "source": [
    "Both formats can be used.\n",
    "\n",
    "**Method 3**: f-strings\n",
    "Introduced with Python 3.6 (a good howto is here: http://zetcode.com/python/fstring/), Add `f` to the start of a string and include variables and format specifiers inside `{}`:"
   ]
  },
  {
   "cell_type": "code",
   "execution_count": null,
   "metadata": {},
   "outputs": [],
   "source": [
    "a = \"foo\"\n",
    "b = \"bar\"\n",
    "c = 3.14159\n",
    "print(f\"{a} {b} {c} {2 * c} {c:.2f} }}\")\n",
    "print(rf\"\\n {a}\") # we can mix raw and f-strings"
   ]
  },
  {
   "cell_type": "markdown",
   "metadata": {},
   "source": [
    "More readable since variables are at the location you want to include them."
   ]
  },
  {
   "cell_type": "markdown",
   "metadata": {},
   "source": [
    "### Encoding strings\n",
    "\n",
    "Encoding mapping between characters and sequence of bytes."
   ]
  },
  {
   "cell_type": "code",
   "execution_count": null,
   "metadata": {},
   "outputs": [],
   "source": [
    "s = 'apple'  #string with some kind of encoding\n",
    "b = b'apple' #just a list of bytes\n",
    "print(type(s),type(b))"
   ]
  },
  {
   "cell_type": "code",
   "execution_count": null,
   "metadata": {},
   "outputs": [],
   "source": [
    "s = \"körte\"\n",
    "b = b\"körte\""
   ]
  },
  {
   "cell_type": "code",
   "execution_count": null,
   "metadata": {},
   "outputs": [],
   "source": [
    "s = \"Körte\"\n",
    "print(len(s))\n",
    "print(type(s))\n",
    "print(type(s.encode(\"utf-8\")))\n",
    "print()\n",
    "\n",
    "print(s.encode(\"utf-8\"))\n",
    "print(s.encode(\"latin-1\"))\n",
    "print(str(s.encode(\"utf-8\"),\"utf-8\"))\n",
    "print(str(s.encode(\"utf-8\"),\"latin-1\"))\n",
    "\n",
    "\n",
    "print()\n",
    "import sys\n",
    "print(sys.getsizeof(\"korte\".encode('utf-8')),\n",
    "      sys.getsizeof(\"körte\"),sys.getsizeof(\"körte\".encode('latin-1')))"
   ]
  },
  {
   "cell_type": "code",
   "execution_count": null,
   "metadata": {
    "scrolled": true
   },
   "outputs": [],
   "source": [
    "\"őzláb\".encode(\"latin1\")"
   ]
  },
  {
   "cell_type": "markdown",
   "metadata": {},
   "source": [
    "### Slicing\n",
    "Accessing characters and substrings."
   ]
  },
  {
   "cell_type": "code",
   "execution_count": null,
   "metadata": {},
   "outputs": [],
   "source": [
    "s = \"Hello world!\"\n",
    "print(\"Length of string:\",len(s))\n",
    "print(s[0],s[1],s[-1],s[-2],s[-12]) #accessing characters \n",
    "print(s[0:4],s[:4],s[:-1]) #slices\n",
    "print(s[0:-1:2]) #You can also set the increment, e.g., skip every second character"
   ]
  },
  {
   "cell_type": "markdown",
   "metadata": {},
   "source": [
    "### Useful string methods\n",
    "\n",
    "Try changing arguments!"
   ]
  },
  {
   "cell_type": "code",
   "execution_count": null,
   "metadata": {},
   "outputs": [],
   "source": [
    "s = \"Helló világ!\\n\"\n",
    "print(s[6:].capitalize() + \"X\")\n",
    "print(s.rstrip() + \"X\")\n",
    "print(s.strip(\"\\n! l\"))\n",
    "print(\"split():\",s.split(),s.split(\"l\"))\n",
    "print(s.count(\"l\"))\n",
    "print(s.index(\"l\"))\n",
    "print(\"isdigit():\",\"123\".isdigit(),\"1e3\".isdigit())\n",
    "print(\"isupper():\", \"a\".isupper(),\"A\".isupper(), \"1\".isupper())\n",
    "print(s.upper())"
   ]
  },
  {
   "cell_type": "markdown",
   "metadata": {},
   "source": [
    "## Lists"
   ]
  },
  {
   "cell_type": "code",
   "execution_count": null,
   "metadata": {
    "scrolled": true
   },
   "outputs": [],
   "source": [
    "a = [ 7, 3 ,8, 10, 7, 1, 9, 1, 5, \"foo\"]\n",
    "print(a[0], a[0:4], a[-1])\n",
    "print()\n",
    "\n",
    "b = []\n",
    "print(b)\n",
    "b.append(\"a\")\n",
    "b.append(\"a\")\n",
    "\n",
    "b.append(5)\n",
    "b.append(a)\n",
    "print(b)\n",
    "b.remove(\"a\")\n",
    "print(b)\n",
    "c=b.pop()\n",
    "print('c',c)\n",
    "print(\"Pop\",b.pop(0))\n",
    "print(b)\n",
    "del b[0]\n",
    "print(b)"
   ]
  },
  {
   "cell_type": "markdown",
   "metadata": {},
   "source": [
    "## Basic control flow\n",
    "\n",
    "Quick recap of loops and conditional statements."
   ]
  },
  {
   "cell_type": "markdown",
   "metadata": {},
   "source": [
    "### The `if` statement"
   ]
  },
  {
   "cell_type": "code",
   "execution_count": null,
   "metadata": {},
   "outputs": [],
   "source": [
    "a= 16\n",
    "if a>3:\n",
    "    print('a larger than 3')\n",
    "elif a<3:\n",
    "    print('a smaller than 3')\n",
    "else:\n",
    "    print('a equals 3')"
   ]
  },
  {
   "cell_type": "markdown",
   "metadata": {},
   "source": [
    "### The `while` statement"
   ]
  },
  {
   "cell_type": "code",
   "execution_count": null,
   "metadata": {},
   "outputs": [],
   "source": [
    "f = 1.0\n",
    "v = 1.0\n",
    "while f * v < 1e10:\n",
    "    f *= v\n",
    "    v += 1.0\n",
    "print(\"The largest factorial less than 1e10 is: %d! = %g\" % (v - 1, f))"
   ]
  },
  {
   "cell_type": "markdown",
   "metadata": {},
   "source": [
    "### The `for` statement"
   ]
  },
  {
   "cell_type": "code",
   "execution_count": null,
   "metadata": {},
   "outputs": [],
   "source": [
    "for a in range(10):\n",
    "    if a < 5:\n",
    "        print(a)\n",
    "    else:\n",
    "        print(10-a)"
   ]
  },
  {
   "cell_type": "markdown",
   "metadata": {},
   "source": [
    "Loops over an iterable, an object that can return its elements one by one, e.g., `range(10)` provides the integers from 0 to 9. Other iterables include strings and lists. More on this later!"
   ]
  },
  {
   "cell_type": "markdown",
   "metadata": {},
   "source": [
    "You can use loops to build lists. For example, this creates a list containing the square numbers:"
   ]
  },
  {
   "cell_type": "code",
   "execution_count": null,
   "metadata": {},
   "outputs": [],
   "source": [
    "L = []\n",
    "for x in range(5):\n",
    "    L.append(x**2)\n",
    "print(L)"
   ]
  },
  {
   "cell_type": "markdown",
   "metadata": {},
   "source": [
    "## Lists comprehensions\n",
    "\n",
    "List comprehensions are a concise and readable way to create lists. The above example with a list comprehension looks like:"
   ]
  },
  {
   "cell_type": "code",
   "execution_count": null,
   "metadata": {},
   "outputs": [],
   "source": [
    "L = [x**2 for x in range(5)]\n",
    "print(L)"
   ]
  },
  {
   "cell_type": "markdown",
   "metadata": {},
   "source": [
    "List comprehensions are similar to the mathematical formalism of defining sets: \n",
    "$$ L=\\lbrace x^2 : x \\in \\lbrace 0, 1, 2, 3, 4\\rbrace \\rbrace.$$"
   ]
  },
  {
   "cell_type": "markdown",
   "metadata": {},
   "source": [
    "Items can be included conditionally:"
   ]
  },
  {
   "cell_type": "code",
   "execution_count": null,
   "metadata": {},
   "outputs": [],
   "source": [
    "L = [x**2 for x in range(5) if x > 2]\n",
    "print(L)"
   ]
  },
  {
   "cell_type": "markdown",
   "metadata": {},
   "source": [
    "This leaves out elements that do not satisfy the criteria, and it is not the same as using an `if`-`else` statement in the body of the list comprehension, e.g.:"
   ]
  },
  {
   "cell_type": "code",
   "execution_count": null,
   "metadata": {},
   "outputs": [],
   "source": [
    "L = [x**2 if x > 2 else \"<=2\" for x in range(5)]\n",
    "print(L)"
   ]
  },
  {
   "cell_type": "markdown",
   "metadata": {},
   "source": [
    "You can also have nested `for` loops:"
   ]
  },
  {
   "cell_type": "code",
   "execution_count": null,
   "metadata": {
    "scrolled": true
   },
   "outputs": [],
   "source": [
    "L = [(i,j,i+j) for i in range(3) for j in range(4)]\n",
    "print(L)"
   ]
  },
  {
   "cell_type": "markdown",
   "metadata": {},
   "source": [
    "## The end\n",
    "\n",
    "of new material. Exercises in other notebook.\n",
    "\n"
   ]
  }
 ],
 "metadata": {
  "kernelspec": {
   "display_name": "Python 3",
   "language": "python",
   "name": "python3"
  },
  "language_info": {
   "codemirror_mode": {
    "name": "ipython",
    "version": 3
   },
   "file_extension": ".py",
   "mimetype": "text/x-python",
   "name": "python",
   "nbconvert_exporter": "python",
   "pygments_lexer": "ipython3",
   "version": "3.6.10"
  }
 },
 "nbformat": 4,
 "nbformat_minor": 2
}
