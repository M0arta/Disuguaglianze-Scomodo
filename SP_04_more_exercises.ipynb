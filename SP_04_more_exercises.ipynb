{
 "cells": [
  {
   "cell_type": "markdown",
   "metadata": {},
   "source": [
    "# Scientific Python\n",
    "## Central European University\n",
    "\n",
    "## 04 Pandas, seaborn -- Even more exercises\n",
    "\n",
    "Instructor: Márton Pósfai, TA: --\n",
    "\n",
    "Email: posfaim@ceu.edu"
   ]
  },
  {
   "cell_type": "markdown",
   "metadata": {},
   "source": [
    "*Don't forget:* use the Slack channel for discussion, to ask questions, or to show solutions to exercises that are different from the ones provided in the notebook. [Slack channel](http://www.personal.ceu.edu/staff/Marton_Posfai/slack_forward.html)"
   ]
  },
  {
   "cell_type": "code",
   "execution_count": 1,
   "metadata": {},
   "outputs": [],
   "source": [
    "import pandas as pd\n",
    "import numpy as np\n",
    "import matplotlib.pyplot as plt\n",
    "import seaborn as sns"
   ]
  },
  {
   "cell_type": "markdown",
   "metadata": {},
   "source": [
    "### Load the bike sharing data\n",
    "\n",
    "The remaining exercises use the bike data. Load the files and merge them again using the following code cells."
   ]
  },
  {
   "cell_type": "code",
   "execution_count": null,
   "metadata": {
    "scrolled": true
   },
   "outputs": [],
   "source": [
    "trips = pd.read_csv('Divvy_Trips_2013.csv')\n",
    "trips.starttime = pd.to_datetime(trips.starttime, format=\"%Y-%m-%d %H:%M\")\n",
    "trips.stoptime = pd.to_datetime(trips.stoptime, format=\"%Y-%m-%d %H:%M\")\n",
    "trips['dayofweek']=trips['starttime'].apply(lambda dt: dt.dayofweek)\n",
    "trips['logduration']=np.log(trips['tripduration'])\n",
    "\n",
    "stations = pd.read_csv('Divvy_Stations_2013.csv')\n",
    "trips2 = pd.merge(left=trips, right=stations, how='left', left_on='from_station_name', right_on='name')\n",
    "trips_extended = pd.merge(trips2, stations, how='inner', left_on='to_station_name', right_on='name',\n",
    "                    suffixes=['_origin', '_dest'])"
   ]
  },
  {
   "cell_type": "markdown",
   "metadata": {},
   "source": [
    "In the optional Seaborn part of the class notebook, we calculate the distance between the stations which we will use again here.\n",
    "\n",
    "We deifine a function that takes two latitude and longitude pairs and returns their distance (see the [haversine formula](https://en.wikipedia.org/wiki/Haversine_formula) on wikipedia for details):"
   ]
  },
  {
   "cell_type": "code",
   "execution_count": null,
   "metadata": {},
   "outputs": [],
   "source": [
    "def latlongdist(lat1,long1,lat2,long2):\n",
    "    rlat1 = math.radians(lat1)\n",
    "    rlat2 = math.radians(lat2)\n",
    "    rlong1 = math.radians(long1)\n",
    "    rlong2 = math.radians(long2)\n",
    "    dlat = rlat2 - rlat1\n",
    "    dlong = rlong2 - rlong1\n",
    "    a = math.sin(dlat / 2)**2 + math.cos(rlat1) * math.cos(rlat2) * math.sin(dlong / 2)**2\n",
    "    c = 2 * math.atan2(math.sqrt(a), math.sqrt(1 - a))\n",
    "    return 6371.0 * c"
   ]
  },
  {
   "cell_type": "markdown",
   "metadata": {},
   "source": [
    "Create a new column for each trip containing the distance between two stations:"
   ]
  },
  {
   "cell_type": "code",
   "execution_count": null,
   "metadata": {},
   "outputs": [],
   "source": [
    "trips_extended['dist']=trips_extended.apply(lambda row: \n",
    "                                            latlongdist(row['latitude_origin'],\n",
    "                                                        row['longitude_origin'],\n",
    "                                                        row['latitude_dest'],\n",
    "                                                        row['longitude_dest']),\n",
    "                                           axis=1)"
   ]
  },
  {
   "cell_type": "markdown",
   "metadata": {},
   "source": [
    "### 01 Distances\n",
    "\n",
    "Use the `dist` column in the `trips_extended` dataframe that contains the distance (as the crow flies) between the origin and destination stations to create a figure using seaborn's `pointplot` function to answer the following questions:\n",
    "* Do men or women go on longer trips?\n",
    "* How does the trip distance depend on the day of the week?\n",
    "\n",
    "<details><summary><u>Hint</u></summary>\n",
    "<p>\n",
    "\n",
    "This is very similar to what we did in the class notebook with the day of week, gender and tripduration.\n",
    "\n",
    "</p>\n",
    "</details>"
   ]
  },
  {
   "cell_type": "code",
   "execution_count": null,
   "metadata": {},
   "outputs": [],
   "source": []
  },
  {
   "cell_type": "markdown",
   "metadata": {},
   "source": [
    "<details><summary><u>Solution.</u></summary>\n",
    "<p>\n",
    "    \n",
    "```python\n",
    "dayofweek_gender_dist = trips_extended.groupby(['dayofweek','gender'])['dist'].mean()\n",
    "dayofweek_gender_dist = dayofweek_gender_dist.reset_index()\n",
    "\n",
    "ax=sns.pointplot(data=dayofweek_gender_dist,x='dayofweek',y='dist', hue='gender')\n",
    "ax.set_ylabel('Average distance of trips [km]')\n",
    "ax.set_title('Average trip distance per day user gender');\n",
    "sns.despine()\n",
    "sns.despine(trim=True,offset=10)\n",
    "```\n",
    "    \n",
    "</p>\n",
    "</details>"
   ]
  },
  {
   "cell_type": "markdown",
   "metadata": {},
   "source": [
    "### 02 Age\n",
    "\n",
    "Using the `birthday` column in `trips` calculate the age of the rider in years at the time of the trip and create a new column `age`.\n",
    "* What is the highest age in the data? How many rides were taken by people this age?\n",
    "\n",
    "<details><summary><u>Hint</u></summary>\n",
    "<p>\n",
    "\n",
    "The age is (year of the trip - birth year). You can get the year from the  `\"starttime\"` column the same way we extracted the day of week. (If you must, you can also cut corners by noticing that the entire data set is from 2013...)\n",
    "\n",
    "</p>\n",
    "</details>"
   ]
  },
  {
   "cell_type": "code",
   "execution_count": null,
   "metadata": {},
   "outputs": [],
   "source": [
    "trips_extended['age']=trips_extended.starttime.apply(lambda dt: dt.year)-trips_extended.birthday\n"
   ]
  },
  {
   "cell_type": "markdown",
   "metadata": {},
   "source": [
    "<details><summary><u>Solution.</u></summary>\n",
    "<p>\n",
    "    \n",
    "```python\n",
    "trips_extended['age']=trips_extended.starttime.apply(lambda dt: dt.year)-trips_extended.birthday\n",
    "```\n",
    "    \n",
    "</p>\n",
    "</details>"
   ]
  },
  {
   "cell_type": "markdown",
   "metadata": {},
   "source": [
    "* Create a histogram showing the distribution of the rider ages depending on their gender? Check out `sns.displot` [here](https://seaborn.pydata.org/tutorial/distributions.html). Try both showing the raw counts and normalizing the genders independently by setting `stat='density'` and `common_norm=False`. You can experiment with `alpha`, `hue_order` and other settings to make your plot look nice.\n",
    "\n",
    "<details><summary><u>Hint</u></summary>\n",
    "<p>\n",
    "\n",
    "You need to show the histogram of ages so set `x='age'`. To show the genders separately, set `hue='gender'`.\n",
    "\n",
    "</p>\n",
    "</details>"
   ]
  },
  {
   "cell_type": "code",
   "execution_count": null,
   "metadata": {
    "scrolled": false
   },
   "outputs": [],
   "source": [
    "sns.displot(data=trips_extended,x='age',hue='gender',\n",
    "            hue_order=['Female','Male'],\n",
    "            bins=20,alpha=.66,\n",
    "            #stat='density',common_norm=False\n",
    "           )"
   ]
  },
  {
   "cell_type": "markdown",
   "metadata": {},
   "source": [
    "<details><summary><u>Solution.</u></summary>\n",
    "<p>\n",
    "    \n",
    "```python\n",
    "sns.displot(data=trips_extended,x='age',hue='gender',\n",
    "            hue_order=['Female','Male'],\n",
    "            bins=20,alpha=.66,\n",
    "            #stat='density',common_norm=False\n",
    "           )\n",
    "```\n",
    "    \n",
    "</p>\n",
    "</details>"
   ]
  },
  {
   "cell_type": "markdown",
   "metadata": {},
   "source": [
    "* Does the trip distance depend on age? Plot the mean distance as a function of rider age. There are only a few old riders, so the data is noisy for large ages; show only ages under 60.\n",
    "\n",
    "<details><summary><u>Hint</u></summary>\n",
    "<p>\n",
    "\n",
    "Groupby `age` and calculate the mean of `dist`. Plot using pandas or seaborn, your choice.\n",
    "\n",
    "</p>\n",
    "</details>"
   ]
  },
  {
   "cell_type": "code",
   "execution_count": null,
   "metadata": {},
   "outputs": [],
   "source": [
    "dist_by_age['age'].values[0::10]"
   ]
  },
  {
   "cell_type": "code",
   "execution_count": null,
   "metadata": {},
   "outputs": [],
   "source": [
    "ax"
   ]
  },
  {
   "cell_type": "code",
   "execution_count": null,
   "metadata": {
    "scrolled": false
   },
   "outputs": [],
   "source": [
    "dist_by_age = trips_extended.groupby('age')['dist'].mean()\n",
    "dist_by_age = dist_by_age.reset_index()\n",
    "ax = sns.pointplot(data=dist_by_age, x='age',y='dist')\n",
    "\n",
    "#plt.xticks([0,18.,30.],labels=['0','18','30'])\n",
    "\n",
    "#ax.set_xticklabels(None) #change location of ticks\n",
    "ax.get_xticks(),ax.get_xticklabels()\n",
    "#dist_by_age.age"
   ]
  },
  {
   "cell_type": "code",
   "execution_count": null,
   "metadata": {},
   "outputs": [],
   "source": [
    "plt.plot([0,1],[0,1])\n",
    "plt.xticks([0,.4],labels=['kakao','alma'])\n",
    "plt.xticks([0,1],labels=[0,1])"
   ]
  },
  {
   "cell_type": "markdown",
   "metadata": {},
   "source": [
    "<details><summary><u>Solution.</u></summary>\n",
    "<p>\n",
    "    \n",
    "```python\n",
    "ax=trips_extended[trips_extended.age<60].groupby('age')['dist'].mean().plot()\n",
    "ax.set_ylabel('distance')\n",
    "```\n",
    "    \n",
    "</p>\n",
    "</details>"
   ]
  },
  {
   "cell_type": "markdown",
   "metadata": {},
   "source": [
    "### 03 Hours of day\n",
    "\n",
    "Using the `hour` attribute of the timestamp objects, create a new column that contains the hour of the day when the trip started. Plot the total number of trips that happened in each hour with a separate color for each day of the week using seaborn.\n",
    "\n",
    "Can you explain the patterns that you see?\n",
    "\n",
    "<details><summary><u>Hint -- new column</u></summary>\n",
    "<p>\n",
    "\n",
    "This is very similar to what we did with the day of week, only instead of using `dt.dayofweek`, we have to use `dt.hour`.\n",
    "\n",
    "</p>\n",
    "</details>\n",
    "\n",
    "<details><summary><u>Hint -- groupby</u></summary>\n",
    "<p>\n",
    "\n",
    "You have to `groupby` based on the two columns representing the day of the week and the hour. You need to use the `count()` statistic and you can pick any column to do the statistic on.\n",
    "\n",
    "</p>\n",
    "</details>\n",
    "\n",
    "<details><summary><u>Hint -- plotting</u></summary>\n",
    "<p>\n",
    "\n",
    "This is very similar to what we did with the `dayofweek` and `gender`, only instead of using `gender` use the new column. Make sure that the hue represents the days of the week and the x axis represents the hour of the day.\n",
    "\n",
    "</p>\n",
    "</details>"
   ]
  },
  {
   "cell_type": "code",
   "execution_count": null,
   "metadata": {
    "scrolled": true
   },
   "outputs": [],
   "source": [
    "\n"
   ]
  },
  {
   "cell_type": "markdown",
   "metadata": {},
   "source": [
    "<details><summary><u>Solution.</u></summary>\n",
    "<p>\n",
    "    \n",
    "```python\n",
    "trips_extended['hour']=trips_extended['starttime'].apply(lambda dt: dt.hour)\n",
    "\n",
    "dayofweek_hour_numtrips = trips_extended.groupby(['dayofweek','hour'])['trip_id'].count().reset_index()\n",
    "\n",
    "ax=sns.pointplot(data=dayofweek_hour_numtrips,x='hour',y='trip_id', hue='dayofweek')\n",
    "ax.set_ylabel('Number of trips')\n",
    "ax.set_title('Number of trips per hour');\n",
    "sns.despine()\n",
    "```\n",
    "    \n",
    "</p>\n",
    "</details>"
   ]
  },
  {
   "cell_type": "markdown",
   "metadata": {},
   "source": [
    "### 04 Map of stations\n",
    "\n",
    "Use `sns.jointplot` to create a two dimensional histogram of the longitude and latitude of the stations in the `stations` dataframe. Look up a map of Chicago, does you plot make sense?\n",
    "\n",
    "<details><summary><u>Hint</u></summary>\n",
    "<p>\n",
    "\n",
    "Use `jointplot` and set `x='longitude` and y=`latitude`. Yes, your plot should make sense!\n",
    "\n",
    "</p>\n",
    "</details>"
   ]
  },
  {
   "cell_type": "code",
   "execution_count": null,
   "metadata": {
    "scrolled": true
   },
   "outputs": [],
   "source": []
  },
  {
   "cell_type": "markdown",
   "metadata": {},
   "source": [
    "<details><summary><u>Solution.</u></summary>\n",
    "<p>\n",
    "    \n",
    "```python\n",
    "sns.jointplot(data=stations,x='longitude',y='latitude',kind='kde')\n",
    "```\n",
    "    \n",
    "</p>\n",
    "</details>"
   ]
  },
  {
   "cell_type": "markdown",
   "metadata": {},
   "source": [
    "### 05 East-west\n",
    "\n",
    "What is the fraction of trips going west (the destionation station is to the west of the origin station) and what is the fraction of trips going north? Exclude trips that originate and end at the same station.\n",
    "\n",
    "Bonus: Is this statistically different from 50%? Calculate the 95% confidence interval using \n",
    "$$CI = 1.96\\sqrt{\\frac{\\hat p(1-\\hat p)}{n}},$$\n",
    "where $\\hat p$ is the estimated probability and $n$ is the number of samples.\n",
    "\n",
    "<details><summary><u>Hint</u></summary>\n",
    "<p>\n",
    "\n",
    "Trips go west if\n",
    "```python\n",
    "trips_wo_returns.longitude_dest<trips_wo_returns.longitude_origin\n",
    "```\n",
    "Do something similar for north.\n",
    "                                                                  \n",
    "</p>\n",
    "</details>"
   ]
  },
  {
   "cell_type": "code",
   "execution_count": null,
   "metadata": {
    "scrolled": true
   },
   "outputs": [],
   "source": [
    "\n"
   ]
  },
  {
   "cell_type": "markdown",
   "metadata": {},
   "source": [
    "<details><summary><u>Solution.</u></summary>\n",
    "<p>\n",
    "    \n",
    "```python\n",
    "trips_wo_returns = trips_extended[trips_extended.from_station_id!=trips_extended.to_station_id]\n",
    "n = len(trips_wo_returns)\n",
    "\n",
    "p_west = (trips_wo_returns.longitude_dest<trips_wo_returns.longitude_origin).sum()/n\n",
    "p_west_CI = 1.96*np.sqrt(p_west*(1-p_west)/n)\n",
    "print(f\"west:{p_west:.4f}+-{p_west_CI:.4f}\")\n",
    "\n",
    "p_north = (trips_wo_returns.latitude_dest>trips_wo_returns.latitude_origin).sum()/n\n",
    "p_north_CI = 1.96*np.sqrt(p_north*(1-p_north)/n)\n",
    "print(f\"north:{p_north:.4f}+-{p_north_CI:.4f}\")\n",
    "```\n",
    "    \n",
    "</p>\n",
    "</details>"
   ]
  },
  {
   "cell_type": "markdown",
   "metadata": {},
   "source": [
    "### 06 Capacity\n",
    "\n",
    "Investigate the relationship between station capacity and traffic. Which two stations would you expand if you had the budget?\n",
    "* Create a series indexed by the station name and containing the total number of out-going traffic of each station\n",
    "* Do the same thing with in-traffic and add the two series together to get the total traffic\n",
    "* Use `merge()` to add traffic data to the `stations` dataframe\n",
    "* Create a scatter plot showing the correlation between traffic and capacity\n",
    "\n",
    "<details><summary><u>Hint 1</u></summary>\n",
    "<p>\n",
    "\n",
    "To get the out-traffic group the trips by `from_station_name` and use `count()` on the `trip_id` column.\n",
    "\n",
    "</p>\n",
    "</details>\n",
    "\n",
    "<details><summary><u>Hint 2</u></summary>\n",
    "<p>\n",
    "\n",
    "Use `merge()` very similarly as we did earlier to extend the `trips` dataframe. Try renaming the new column!\n",
    "The next hint reveals the exact code to do the merge.\n",
    "\n",
    "</p>\n",
    "</details>\n",
    "\n",
    "<details><summary><u>Hint 3</u></summary>\n",
    "<p>\n",
    "\n",
    "```python\n",
    "stations_extended = pd.merge(left=stations, right=traffic, how='left', left_on='name', right_on='to_station_name')\n",
    "```\n",
    "The series object has a name attribute, in this case `traffic.name`, that will become the name of the column after the merge. You can rename the column after the merge, or you can change the name of the series before the merge.\n",
    "\n",
    "</p>\n",
    "</details>"
   ]
  },
  {
   "cell_type": "code",
   "execution_count": null,
   "metadata": {
    "scrolled": true
   },
   "outputs": [],
   "source": []
  },
  {
   "cell_type": "markdown",
   "metadata": {},
   "source": [
    "<details><summary><u>Solution.</u></summary>\n",
    "<p>\n",
    "    \n",
    "```python\n",
    "outtraffic = trips_extended.groupby('from_station_name')['trip_id'].count()\n",
    "intraffic = trips_extended.groupby('to_station_name')['trip_id'].count()\n",
    "traffic = intraffic+outtraffic\n",
    "traffic.name = \"traffic\"\n",
    "stations_extended = pd.merge(left=stations, right=traffic, how='left', left_on='name', right_on='to_station_name')\n",
    "stations_extended.plot(kind='scatter',x='dpcapacity',y='traffic');\n",
    "```\n",
    "    \n",
    "</p>\n",
    "</details>"
   ]
  },
  {
   "cell_type": "markdown",
   "metadata": {},
   "source": [
    "### 07 Sources and sinks\n",
    "\n",
    "Which stations are sources and which stations are sinks, i.e. which stations have much more departures than arrivals, and vice versa? Print out the top 10 stations with the largest in- and out-traffic difference. To sort a series `S` by its values use `S.sort_values()`.\n",
    "\n",
    "<details><summary><u>Hint.</u></summary>\n",
    "<p>\n",
    "\n",
    "Use the part of the solution of the previous exercise.\n",
    "\n",
    "</p>\n",
    "</details>"
   ]
  },
  {
   "cell_type": "code",
   "execution_count": null,
   "metadata": {},
   "outputs": [],
   "source": []
  },
  {
   "cell_type": "markdown",
   "metadata": {},
   "source": [
    "<details><summary><u>Solution.</u></summary>\n",
    "<p>\n",
    "    \n",
    "```python\n",
    "traffic_diff = np.abs(intraffic-outtraffic).sort_values(ascending=False)\n",
    "traffic_diff.head(10)\n",
    "```\n",
    "    \n",
    "</p>\n",
    "</details>"
   ]
  },
  {
   "cell_type": "markdown",
   "metadata": {},
   "source": [
    "### 08 Daily commute map\n",
    "\n",
    "Building on the previous exercises, create two series:\n",
    "* `morning_outtraffic`: that counts the number of out-going trips from each station before noon\n",
    "* `evening_outtraffic`: that counts the number of out-going trips from each station after noon\n",
    "\n",
    "Create a scatter plot representing the stations such that the x coordinate is the longitude, the y coordinate is the latitude and the color of the markers represent the morning traffic divided by the evening traffic.\n",
    "\n",
    "For added fun, color the stations red if they have more out-goin traffic in the morning than in the evening, otherwise black.\n",
    "\n",
    "<details><summary><u>Hint -- series</u></summary>\n",
    "<p>\n",
    "\n",
    "Modify the solution of the 06 Capacity exercise to only count the trips for `trips_extended.hour<12`\n",
    "\n",
    "</p>\n",
    "</details>\n",
    "\n",
    "<details><summary><u>Hint -- scatter plot</u></summary>\n",
    "<p>\n",
    "\n",
    "Use pandas' or matplotlib's scatter plot, set the color to be `c=morning_outtraffic/evening_outtraffic`.\n",
    "    \n",
    "</p>\n",
    "</details>"
   ]
  },
  {
   "cell_type": "code",
   "execution_count": null,
   "metadata": {},
   "outputs": [],
   "source": []
  },
  {
   "cell_type": "markdown",
   "metadata": {},
   "source": [
    "<details><summary><u>Solution.</u></summary>\n",
    "<p>\n",
    "    \n",
    "```python\n",
    "morning_outtraffic = trips_extended[trips_extended.hour<12].groupby('from_station_name')['trip_id'].count()\n",
    "\n",
    "evening_outtraffic = trips_extended[trips_extended.hour>12].groupby('from_station_name')['trip_id'].count()\n",
    "\n",
    "stations_extended.plot(kind='scatter',x='longitude',y='latitude',\n",
    "                       c=morning_outtraffic/evening_outtraffic\n",
    "                       ,cmap='inferno',s=20);\n",
    "\n",
    "stations_extended.plot(kind='scatter',x='longitude',y='latitude',\n",
    "                       c= ['r' if x>1 else 'k' for x in morning_outtraffic/evening_outtraffic]\n",
    "                       ,cmap='inferno',s=20);\n",
    "```\n",
    "    \n",
    "</p>\n",
    "</details>"
   ]
  },
  {
   "cell_type": "code",
   "execution_count": null,
   "metadata": {},
   "outputs": [],
   "source": []
  }
 ],
 "metadata": {
  "kernelspec": {
   "display_name": "Python 3",
   "language": "python",
   "name": "python3"
  },
  "language_info": {
   "codemirror_mode": {
    "name": "ipython",
    "version": 3
   },
   "file_extension": ".py",
   "mimetype": "text/x-python",
   "name": "python",
   "nbconvert_exporter": "python",
   "pygments_lexer": "ipython3",
   "version": "3.6.10"
  }
 },
 "nbformat": 4,
 "nbformat_minor": 4
}
