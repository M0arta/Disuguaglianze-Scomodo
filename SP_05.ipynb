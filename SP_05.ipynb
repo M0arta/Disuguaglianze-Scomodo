{
 "cells": [
  {
   "cell_type": "markdown",
   "metadata": {},
   "source": [
    "# Scientific Python\n",
    "## Central European University\n",
    "\n",
    "## 05 Error handling, JSON, XML, web scraping\n",
    "\n",
    "Instructor: Márton Pósfai, TA: Luka Blagojevic\n",
    "\n",
    "Email: posfaim@ceu.edu, Blagojevic_Luka@phd.ceu.edu"
   ]
  },
  {
   "cell_type": "markdown",
   "metadata": {},
   "source": [
    "*Don't forget:* use the Slack channel for discussion, to ask questions, or to show solutions to exercises that are different from the ones provided in the notebook. [Slack channel](http://www.personal.ceu.edu/staff/Marton_Posfai/slack_forward.html)"
   ]
  },
  {
   "cell_type": "markdown",
   "metadata": {},
   "source": [
    "## Recap -- pandas"
   ]
  },
  {
   "cell_type": "markdown",
   "metadata": {},
   "source": [
    "Create a dataframe:"
   ]
  },
  {
   "cell_type": "code",
   "execution_count": null,
   "metadata": {},
   "outputs": [],
   "source": [
    "import pandas as pd\n",
    "import numpy as np\n",
    "\n",
    "# create a dataframe from a dictionary\n",
    "D_pets = {'name':['Fluffy','Stan','The Fish', 'Ham', 'Flip'],\n",
    "          'species':['dog','dog','fish','pig','fish'],\n",
    "          'age':[3.,10.,1.,2.,1.5]}\n",
    "df = pd.DataFrame(D_pets)\n",
    "df"
   ]
  },
  {
   "cell_type": "markdown",
   "metadata": {},
   "source": [
    "Indexing, slicing, masking:"
   ]
  },
  {
   "cell_type": "code",
   "execution_count": null,
   "metadata": {},
   "outputs": [],
   "source": [
    "#only the first three rows using slices:\n",
    "print(df.iloc[:3])\n",
    "print()\n",
    "\n",
    "#only the name and age column using list of labels\n",
    "print(df[['name','age']][:3])\n",
    "print()\n",
    "\n",
    "#only the fish using masking\n",
    "print(df[df['species']=='fish'])\n",
    "print()"
   ]
  },
  {
   "cell_type": "markdown",
   "metadata": {},
   "source": [
    "Average age of species using `groupby`:"
   ]
  },
  {
   "cell_type": "code",
   "execution_count": null,
   "metadata": {},
   "outputs": [],
   "source": [
    "df.groupby('species')['age'].mean()"
   ]
  },
  {
   "cell_type": "markdown",
   "metadata": {},
   "source": [
    "New columns with `apply`:"
   ]
  },
  {
   "cell_type": "code",
   "execution_count": null,
   "metadata": {
    "scrolled": false
   },
   "outputs": [],
   "source": [
    "df['lengthofname']=df.apply(lambda row: len(row['name']),axis=1)\n",
    "\n",
    "#or \n",
    "#df['lengthofname']=df['name'].apply(len)\n",
    "df"
   ]
  },
  {
   "cell_type": "markdown",
   "metadata": {},
   "source": [
    "### Exercise\n",
    "\n",
    "Create a new column called `old` if the pet is older than 2 years.\n",
    "\n",
    "<details><summary><u>Hint.</u></summary>\n",
    "<p>\n",
    "\n",
    "The expression `x>2` actually returns a `True` or `False` value.\n",
    "    \n",
    "</p>\n",
    "</details>"
   ]
  },
  {
   "cell_type": "code",
   "execution_count": null,
   "metadata": {},
   "outputs": [],
   "source": []
  },
  {
   "cell_type": "markdown",
   "metadata": {},
   "source": [
    "<details><summary><u>Solution.</u></summary>\n",
    "<p>\n",
    "\n",
    "\n",
    "```python\n",
    "df['old']=df['age'].apply(lambda x: x>2)\n",
    "\n",
    "#or simply\n",
    "df['old']=df['age']>2\n",
    "df\n",
    "```\n",
    "\n",
    "    \n",
    "</p>\n",
    "</details>"
   ]
  },
  {
   "cell_type": "markdown",
   "metadata": {},
   "source": [
    "And now for something new!\n",
    "\n",
    "## Error handling & exceptions\n",
    "\n",
    "[Video.](https://ceu.cloud.panopto.eu/Panopto/Pages/Viewer.aspx?id=21c84ba6-1c2c-4cdf-9faa-acc400e1f602)\n",
    "\n",
    "What happens if we run the next bit of code?"
   ]
  },
  {
   "cell_type": "code",
   "execution_count": null,
   "metadata": {},
   "outputs": [],
   "source": [
    "for a in range(5):\n",
    "    print(1/a)"
   ]
  },
  {
   "cell_type": "markdown",
   "metadata": {},
   "source": [
    "Well, we tried to divide by zero and python didn't approve. It threw an error, namely a `ZeroDivisionError`, and the code stopped executing.\n",
    "\n",
    "This is inflexible. What if your code depends on outside variables such as user input or an online data source and issues beyond your control cause an error? You might want to be able to handle the errors within the code and not stop the execution.\n",
    "\n",
    "Python has a very simple way of doing this using the `try` and `except` key words:"
   ]
  },
  {
   "cell_type": "code",
   "execution_count": null,
   "metadata": {},
   "outputs": [],
   "source": [
    "for a in range(5):\n",
    "    try:\n",
    "        print(1/a)\n",
    "    except ZeroDivisionError:\n",
    "        print(\"Cannot divide with 0\")"
   ]
  },
  {
   "cell_type": "markdown",
   "metadata": {},
   "source": [
    "We try to execute whatever is after `try`, if it throws an error, we catch it and run whatever is after `except`. And we continue to execute the code.\n",
    "\n",
    "You don't have to specify what type of error you are trying to catch, we can catch all:"
   ]
  },
  {
   "cell_type": "code",
   "execution_count": null,
   "metadata": {},
   "outputs": [],
   "source": [
    "for a in range(5):\n",
    "    try:\n",
    "        print(1/a)\n",
    "    except:\n",
    "        print(\"Cannot divide with 0\")"
   ]
  },
  {
   "cell_type": "markdown",
   "metadata": {},
   "source": [
    "\n",
    "You could always test your variables with `if` statements to be sure that the code will execute without an error, but things can get complicated fast, the use of `try`-`except` pair result in  more readable code.\n",
    "\n",
    "For example:\n"
   ]
  },
  {
   "cell_type": "code",
   "execution_count": 1,
   "metadata": {},
   "outputs": [
    {
     "name": "stdout",
     "output_type": "stream",
     "text": [
      "0\n",
      "1\n",
      "3\n",
      "4\n"
     ]
    }
   ],
   "source": [
    "l = [0, 1, 3, 4]\n",
    "for a in range(5):\n",
    "    try:\n",
    "        i = l[a]\n",
    "        print(i)\n",
    "        # very complicated stuff with i\n",
    "    except IndexError:\n",
    "        pass"
   ]
  },
  {
   "cell_type": "markdown",
   "metadata": {},
   "source": [
    "Depending on what calculations we are planning to do with `i`, we might end up with  a lot of `if` statements. Using `try` if calculations go wrong any way, we end up in the `except` part."
   ]
  },
  {
   "cell_type": "markdown",
   "metadata": {},
   "source": [
    "### Exercise\n",
    "\n",
    "Write a function that\n",
    "* returns the sum of two variables `x` and `y` if adding the two variables is possible\n",
    "* returns `None`  and prints out the message \"Can't add x and y together!\" if the variables `x` and `y` are incompatible\n",
    "\n",
    "Substituting `try` and `except` with `if` statements would be difficult.\n",
    "\n",
    "<details><summary><u>Hint.</u></summary>\n",
    "<p>\n",
    "\n",
    "Try running\n",
    "```python\n",
    "3+'1'\n",
    "```\n",
    "What kind of error did you get? Catch this kind of error.\n",
    "    \n",
    "</p>\n",
    "</details>"
   ]
  },
  {
   "cell_type": "code",
   "execution_count": null,
   "metadata": {
    "scrolled": true
   },
   "outputs": [],
   "source": []
  },
  {
   "cell_type": "markdown",
   "metadata": {},
   "source": [
    "<details><summary><u>Solution.</u></summary>\n",
    "<p>\n",
    "\n",
    "\n",
    "```python\n",
    "def add(x,y):\n",
    "    try:\n",
    "        return x+y\n",
    "    except TypeError:\n",
    "        print(f\"Can't add {x} and {y} together!\") # remember the f-strings?\n",
    "        return None\n",
    "        \n",
    "print(add(1,2), add([1,2],[2,3]), add(1,[2,3]))\n",
    "```\n",
    "\n",
    "    \n",
    "</p>\n",
    "</details>"
   ]
  },
  {
   "cell_type": "markdown",
   "metadata": {},
   "source": [
    "## A structured data format: JSON\n",
    "\n",
    "[Video.](https://ceu.cloud.panopto.eu/Panopto/Pages/Viewer.aspx?id=0c9a8b1b-2e77-4ac6-8b20-acc400cdd6fb)\n",
    "\n",
    "So far we mostly looked at data that can be neatly stored in tables; however, not all data can be represented naturally as a table. We will look at an alternative data format called JSON (the full name of the format is [Javascript Object Notation](http://en.wikipedia.org/wiki/JSON)). It is basically a text file or a string that encodes data in a logical hierarchical structure. Look at the following example, it should look familiar to you!\n",
    "\n",
    "<pre>\n",
    "{\n",
    "  \"firstName\": \"John\",\n",
    "  \"lastName\": \"Smith\",\n",
    "  \"isAlive\": true,\n",
    "  \"age\": 27,\n",
    "  \"address\": {\n",
    "    \"streetAddress\": \"21 2nd Street\",\n",
    "    \"city\": \"New York\",\n",
    "    \"state\": \"NY\",\n",
    "    \"postalCode\": \"10021-3100\"\n",
    "  },\n",
    "  \"phoneNumbers\": [\n",
    "    {\n",
    "      \"type\": \"home\",\n",
    "      \"number\": \"212 555-1234\"\n",
    "    },\n",
    "    {\n",
    "      \"type\": \"office\",\n",
    "      \"number\": \"646 555-4567\"\n",
    "    },\n",
    "    {\n",
    "      \"type\": \"mobile\",\n",
    "      \"number\": \"123 456-7890\"\n",
    "    }\n",
    "  ],\n",
    "  \"children\": [],\n",
    "  \"spouse\": null\n",
    "}\n",
    "</pre>\n",
    "\n",
    "If you thought this looks like a combination of nested dictionaries and lists in python, you were right!\n",
    "\n",
    "This data format has become **very popular recently** because it's not only how you write a python dict but also a **Javascript object**. This means a web browser can trivially parse a JSON string. Other formats, like XML (see next class), require real parser code.\n",
    "\n"
   ]
  },
  {
   "cell_type": "markdown",
   "metadata": {},
   "source": [
    "### JSON in Python\n",
    "\n",
    "Python has a simple module called json that can parse JSON strings to create the corresponding nested python dictionaries and lists, or vice versa it can write JSON string based on the python objects."
   ]
  },
  {
   "cell_type": "code",
   "execution_count": 1,
   "metadata": {},
   "outputs": [],
   "source": [
    "import json "
   ]
  },
  {
   "cell_type": "markdown",
   "metadata": {},
   "source": [
    "We can use the `dumps` function to write a string from python dictionaries and/or lists:"
   ]
  },
  {
   "cell_type": "code",
   "execution_count": 2,
   "metadata": {},
   "outputs": [
    {
     "name": "stdout",
     "output_type": "stream",
     "text": [
      "{\"name\": \"Alice\"}\n",
      "<class 'str'>\n"
     ]
    }
   ],
   "source": [
    "D = {'name' : 'Alice'}\n",
    "json_str = json.dumps(D) # dumps -> creates a JSON string\n",
    "print(json_str)\n",
    "print(type(json_str))"
   ]
  },
  {
   "cell_type": "markdown",
   "metadata": {},
   "source": [
    "Notice that in the dictionary definition we used single quotes `'`, but the JSON string contains double qoutes `\"`. In python, we can use both `'` and `\"` interchangebly; in JSON, however, only double quotes are accepted.\n",
    "\n",
    "And to convert a JSON string to an appropriate combination of lists and strings, we use the `load` function:"
   ]
  },
  {
   "cell_type": "code",
   "execution_count": 3,
   "metadata": {},
   "outputs": [
    {
     "name": "stdout",
     "output_type": "stream",
     "text": [
      "<class 'str'>\n",
      "[{'name': 'Bob', 'age': 28}, {'name': 'Alice', 'age': 23}]\n",
      "<class 'list'>\n",
      "<class 'dict'>\n",
      "Bob 28\n"
     ]
    }
   ],
   "source": [
    "# note the single- vs. double-quotes...\n",
    "string = '[ {\"name\":\"Bob\",\"age\":28}, {\"name\":\"Alice\",\"age\":23} ]'\n",
    "print(type(string))\n",
    "\n",
    "D = json.loads(string) \n",
    "\n",
    "print(D)\n",
    "print(type(D))\n",
    "print(type(D[0]))\n",
    "print(D[0][\"name\"], D[0][\"age\"]) # we can access elements in the usual way "
   ]
  },
  {
   "cell_type": "markdown",
   "metadata": {},
   "source": [
    "### Exercise -- JSON\n",
    "\n",
    "* Take the first JSON example in this notebook and copy it to a text file.\n",
    "* Read it in whole (not line by line) as a string, and then convert it to a dictionary `d` by using the module json.\n",
    "* Print out all phone numbers.\n",
    "\n",
    "<details><summary><u>Hint.</u></summary>\n",
    "<p>\n",
    "\n",
    "To read the entire contents of a file `f` into a string use `f.read()`.\n",
    "\n",
    "</p>\n",
    "</details>"
   ]
  },
  {
   "cell_type": "code",
   "execution_count": null,
   "metadata": {
    "scrolled": true
   },
   "outputs": [],
   "source": []
  },
  {
   "cell_type": "markdown",
   "metadata": {},
   "source": [
    "<details><summary><u>Solution.</u></summary>\n",
    "<p>\n",
    "\n",
    "\n",
    "```python\n",
    "with open(\"json_example.txt\",\"r\",encoding=\"utf-8\") as f:\n",
    "    text = f.read()\n",
    "d = json.loads(text)\n",
    "\n",
    "for num in d[\"phoneNumbers\"]:\n",
    "    print(num[\"number\"])\n",
    "```\n",
    "\n",
    "    \n",
    "</p>\n",
    "</details>"
   ]
  },
  {
   "cell_type": "markdown",
   "metadata": {},
   "source": [
    "JSON has many uses, for example, the notebook that you are working with right now is also stored as a JSON file. Let's load it and take a look!"
   ]
  },
  {
   "cell_type": "code",
   "execution_count": null,
   "metadata": {},
   "outputs": [],
   "source": [
    "with open(\"SP_08.ipynb\",\"r\",encoding=\"utf-8\") as f:\n",
    "    text = f.read()\n",
    "notebook = json.loads(text)\n",
    "notebook.keys()"
   ]
  },
  {
   "cell_type": "code",
   "execution_count": null,
   "metadata": {},
   "outputs": [],
   "source": [
    "notebook['cells']"
   ]
  },
  {
   "cell_type": "markdown",
   "metadata": {},
   "source": [
    "The notebook itself is a dictionary with four keys and contains combination of nested lists dictionaries."
   ]
  },
  {
   "cell_type": "markdown",
   "metadata": {},
   "source": [
    "### Exercise -- notebook as JSON\n",
    "\n",
    "Explore the `notebook` object and answer the following questions:\n",
    "* How many markdown cells are there in the notebook?\n",
    "* How many code cells? Or more advanced: how many lines of code?\n",
    "* Why doesn't the code line count increase if I add more code?\n",
    "\n",
    "<details><summary><u>Hint.</u></summary>\n",
    "<p>\n",
    "\n",
    "`notebook['cells']` is a list containing cells. Print out the first one to see how the contents of a cell is stored.\n",
    "    \n",
    "</p>\n",
    "</details>"
   ]
  },
  {
   "cell_type": "code",
   "execution_count": null,
   "metadata": {
    "scrolled": true
   },
   "outputs": [],
   "source": []
  },
  {
   "cell_type": "markdown",
   "metadata": {},
   "source": [
    "<details><summary><u>Solution.</u></summary>\n",
    "<p>\n",
    "\n",
    "\n",
    "```python\n",
    "markdowncells = [cell for cell in notebook['cells'] if cell['cell_type']=='markdown']\n",
    "print('number of markdown cells:', len(markdowncells))\n",
    "\n",
    "codecells = [cell for cell in notebook['cells'] if cell['cell_type']=='code']\n",
    "print('number of code cells:', len(codecells))\n",
    "\n",
    "codelines = [l   for cell in notebook['cells'] if cell['cell_type']=='code' for l in cell['source'] if l.strip() ]\n",
    "print('number of code lines:', len(codelines))\n",
    "\n",
    "\n",
    "#or more verbose\n",
    "num_codelines = 0\n",
    "for cell in notebook['cells']:   # iterate over cells\n",
    "    if cell['cell_type']=='code': # check if code cell\n",
    "        for line in cell['source']: #iterate over lines\n",
    "            if line.strip() != '': #check if line contains something else than whitespace\n",
    "                num_codelines+=1 # increase count\n",
    "print('number of code cells:', num_codelines)\n",
    "```\n",
    "\n",
    "You would have to reload the file to see the number of code lines increase.\n",
    "\n",
    "</p>\n",
    "</details>"
   ]
  },
  {
   "cell_type": "markdown",
   "metadata": {},
   "source": [
    "This is all neat but the real reason we are learing about JSON, is that it is often used for data transfer by web services. In the next section, we will obtain data in JSON format from a web service using its API."
   ]
  },
  {
   "cell_type": "markdown",
   "metadata": {},
   "source": [
    "## Exchange rates through accessing a web API\n",
    "\n",
    "[Video.](https://ceu.cloud.panopto.eu/Panopto/Pages/Viewer.aspx?id=882b3757-741c-41ea-bf6b-acc400d2635d)\n",
    "\n",
    "So what is an API? API stands for \"Application Programming Interface\" and is a set of functions and procedures that allow code to access the features or data of an operating system, application, or other service.\n",
    "\n",
    "As a data-collection example, we are going to obtain how currencies compare to one another over time. Specifically we ask:\n",
    "\n",
    "**How did the exchange rate between USD and HUF change recently?**\n",
    "\n",
    "There's a nice, free website called https://openexchangerates.org. They provide a simple API to get exchange rate data. Let's use this.\n",
    "\n",
    "To use their API, we need to register with them and get an **App ID**. This lets them track how often you call their website and block you if you do too much (this is known as rate limiting).\n"
   ]
  },
  {
   "cell_type": "markdown",
   "metadata": {},
   "source": [
    "### Exercise -- App ID\n",
    "\n",
    "Register to [Open Exchange Rates](https://openexchangerates.org/signup/free) and copy-paste your own App ID below. The App ID is a string of 32 characters.\n",
    "\n",
    "Registration reequires an email address. On a side note, there are [websites](https://www.mintemail.com/) that give you throw-away email addresses for temporary use."
   ]
  },
  {
   "cell_type": "code",
   "execution_count": 4,
   "metadata": {},
   "outputs": [],
   "source": [
    "app_id = \"\""
   ]
  },
  {
   "cell_type": "markdown",
   "metadata": {},
   "source": [
    "<details><summary><u>Solution.</u></summary>\n",
    "<p>\n",
    "\n",
    "\n",
    "Every ID is unique, get your own!\n",
    "    \n",
    "If all of us would be using the same ID, we would quickly reach the rate limit and we would get blocked.\n",
    "\n",
    "    \n",
    "</p>\n",
    "</details>"
   ]
  },
  {
   "cell_type": "markdown",
   "metadata": {},
   "source": [
    "Now that we have the App ID, how do we dowload data? Their [docs](https://openexchangerates.org/documentation) tell us what to do:\n",
    "* We have to build an appropriate URL that encodes our querry and contains our ID.\n",
    "* We have to request this URL from their server the same way as if we were downloading a website.\n",
    "* Their service prepares and sends the requested data as a JSON file.\n",
    "\n",
    "The documentation tells us that to access historical exchange rates the URL has to look like this\n",
    "<pre>\n",
    "http://openexchangerates.org/api/historical/2011-10-18.json?app_id=xxx\n",
    "</pre>\n",
    "where `2011-10-18` is the date we are interested in and `app_id=xxx` is our App ID.\n",
    "\n",
    "Let's try it out:"
   ]
  },
  {
   "cell_type": "code",
   "execution_count": null,
   "metadata": {},
   "outputs": [],
   "source": [
    "# build a url from pieces:\n",
    "base_url = \"http://openexchangerates.org/api/historical/\"\n",
    "id_str   = \"app_id=\"+app_id\n",
    "date_str = \"2011-10-18\"\n",
    "#stich it together\n",
    "URL = base_url+date_str+\".json?\"+id_str # this format is specified at the end of the doc page"
   ]
  },
  {
   "cell_type": "code",
   "execution_count": null,
   "metadata": {},
   "outputs": [],
   "source": [
    "#let's check it\n",
    "URL"
   ]
  },
  {
   "cell_type": "markdown",
   "metadata": {},
   "source": [
    "OK, let's download the text of that \"page\":"
   ]
  },
  {
   "cell_type": "code",
   "execution_count": null,
   "metadata": {},
   "outputs": [],
   "source": [
    "import urllib.request # this module allows us to download websites, we used it in the second class\n",
    "result = urllib.request.urlopen(URL)\n",
    "text = result.read()"
   ]
  },
  {
   "cell_type": "markdown",
   "metadata": {},
   "source": [
    "Let's see what we got:"
   ]
  },
  {
   "cell_type": "code",
   "execution_count": null,
   "metadata": {},
   "outputs": [],
   "source": [
    "print(type(text))\n",
    "# now print the beginning and end of the text:\n",
    "print(text[:1500])\n",
    "print('\\n')\n",
    "print(text[-300:])"
   ]
  },
  {
   "cell_type": "markdown",
   "metadata": {},
   "source": [
    "This is a `bytes` object. Do remember it from one of the first classes? A `bytes` object is just a series of bytes, basically a string without the character encoding specified. (The notebook had no problem printing it out, since it seems to only contain ASCII characters.)\n",
    "\n",
    "**Great!** This means we can take the text from that website and run it through `json.loads` and we have a nice accessible python dict:"
   ]
  },
  {
   "cell_type": "code",
   "execution_count": null,
   "metadata": {},
   "outputs": [],
   "source": [
    "data = json.loads(str(text,\"utf-8\")) # This comes from our API, remember?\n",
    "print(type(data))\n",
    "print(list(data.keys()))"
   ]
  },
  {
   "cell_type": "markdown",
   "metadata": {},
   "source": [
    "Sweet. Now we see there's a timestamp key. What does it give us?"
   ]
  },
  {
   "cell_type": "code",
   "execution_count": null,
   "metadata": {},
   "outputs": [],
   "source": [
    "print(data[\"timestamp\"])"
   ]
  },
  {
   "cell_type": "markdown",
   "metadata": {},
   "source": [
    "Is that a Unix timestamp? Yup! If you don't remember what this is: it is the number of seconds since 1970-01-01 00:00 UTC, aka the Unix epoch. For details go back a couple of notebooks where we first covered dates and look for the epoch section.\n",
    "\n",
    "This format is so common that datetime has a builtin method to deal with it, `fromtimestamp` converts a Uinix timestamp to a `datetime` object:"
   ]
  },
  {
   "cell_type": "code",
   "execution_count": null,
   "metadata": {},
   "outputs": [],
   "source": [
    "import datetime\n",
    "t = datetime.datetime.fromtimestamp(data[\"timestamp\"])\n",
    "\n",
    "print(t)\n",
    "print(type(t)) # this is datetime, not a timedelta. Do you remember the difference?"
   ]
  },
  {
   "cell_type": "markdown",
   "metadata": {},
   "source": [
    "Our original URL had `historical/2011-10-18.json` in it, so that timestamp makes perfect sense.\n",
    "There are also the `base` and `rates` keys. Those are the actual exchange rate data:"
   ]
  },
  {
   "cell_type": "code",
   "execution_count": null,
   "metadata": {},
   "outputs": [],
   "source": [
    "print(data[\"base\"])\n",
    "print(type(data[\"rates\"]))\n",
    "print(list(data[\"rates\"].keys())[:5]) # print first five keys"
   ]
  },
  {
   "cell_type": "markdown",
   "metadata": {},
   "source": [
    "`base` tells us what currency the exchange rate is relative to. `rates` is another dict, keyed by three-letter currency names."
   ]
  },
  {
   "cell_type": "code",
   "execution_count": null,
   "metadata": {},
   "outputs": [],
   "source": [
    "print(data[\"rates\"][\"USD\"])"
   ]
  },
  {
   "cell_type": "markdown",
   "metadata": {},
   "source": [
    "Makes sense, the conversion for USD should always be 1 since the base was USD. Let's check if the exchange rate with the Hungarian forint is present, and let's have a look at it:"
   ]
  },
  {
   "cell_type": "code",
   "execution_count": null,
   "metadata": {},
   "outputs": [],
   "source": [
    "print(data[\"rates\"][\"HUF\"])"
   ]
  },
  {
   "cell_type": "markdown",
   "metadata": {},
   "source": [
    "### Exercise\n",
    "\n",
    "Write a function that takes a currency code and the exchange rate dictionary as input and\n",
    "* prints out the exchange rate if the currency is included in the dictionary\n",
    "* prints out an message if not included\n",
    "\n",
    "<details><summary><u>Hint.</u></summary>\n",
    "<p>\n",
    "    \n",
    "To check dictionary `D` contains `key` use `if key in D`.\n",
    "    \n",
    "</p>\n",
    "</details>"
   ]
  },
  {
   "cell_type": "code",
   "execution_count": null,
   "metadata": {
    "scrolled": true
   },
   "outputs": [],
   "source": []
  },
  {
   "cell_type": "markdown",
   "metadata": {},
   "source": [
    "<details><summary><u>Solution.</u></summary>\n",
    "<p>\n",
    "\n",
    "\n",
    "```python\n",
    "def exrate(currency, data):\n",
    "    if currency in data[\"rates\"]:\n",
    "        print('The exchange rate of',currency, \"is\", data[\"rates\"][currency])\n",
    "    else:\n",
    "        print(currency, 'is not included')\n",
    "    return\n",
    "\n",
    "exrate('HUF', data)\n",
    "exrate('Imaginary dollars',data)\n",
    "```\n",
    "\n",
    "    \n",
    "</p>\n",
    "</details>"
   ]
  },
  {
   "cell_type": "markdown",
   "metadata": {},
   "source": [
    "Now, having a `data` dict like this may seem a little verbose compared to a table or CSV file. A CSV file for exchange rates makes a lot of sense but many data do not fit into a nice regular form like that. Send JSON \"over the wire\" and using dictionary keys makes it easy for us to keep track of what number correspond to what unit of measurement."
   ]
  },
  {
   "cell_type": "markdown",
   "metadata": {},
   "source": [
    "### Exercise\n",
    "\n",
    "How many different currencies are there in the JSON files? How can you check it quickly?\n",
    "\n",
    "<details><summary><u>Hint.</u></summary>\n",
    "<p>\n",
    "    \n",
    "To get the number of items in a dictionary `D` use `len(D)`.\n",
    "    \n",
    "</p>\n",
    "</details>\n"
   ]
  },
  {
   "cell_type": "code",
   "execution_count": null,
   "metadata": {},
   "outputs": [],
   "source": []
  },
  {
   "cell_type": "markdown",
   "metadata": {},
   "source": [
    "<details><summary><u>Solution.</u></summary>\n",
    "<p>\n",
    "\n",
    "\n",
    "```python\n",
    "print(len(data['rates']))\n",
    "```\n",
    "\n",
    "    \n",
    "</p>\n",
    "</details>"
   ]
  },
  {
   "cell_type": "markdown",
   "metadata": {},
   "source": [
    "Now, having a `data` dict like this may seem a little verbose compared to a table or CSV file. A CSV file for exchange rates makes a lot of sense but many data do not fit into a nice regular form like that. Send JSON \"over the wire\" and using dictionary keys makes it easy for us to keep track of what number correspond to what unit of measurement."
   ]
  },
  {
   "cell_type": "markdown",
   "metadata": {},
   "source": [
    "## Putting it all together\n",
    "\n",
    "[Video.](https://ceu.cloud.panopto.eu/Panopto/Pages/Viewer.aspx?id=3878700f-022c-402b-8cae-acc400d8b477)\n",
    "\n",
    "**How did the exchange rate between USD and HUF change recently?**\n",
    "\n",
    "We want to plot the USD-HUF exchange rate for the last 60 days, we now have all the tools to do this. Let's break down the task into smaller pieces:\n",
    "1. Construct a list containing the appropriate dates using datetime.\n",
    "2. Download and save the data into a dictionary using json.\n",
    "3. Extract the USD-HUF exchange rate from the JSON format.\n",
    "4. Create plot using matplotlib."
   ]
  },
  {
   "cell_type": "markdown",
   "metadata": {},
   "source": [
    "### Part 1 -- Dates\n",
    "\n",
    "To download the exchange rates of a specific day we have to construct and url containing the date:\n",
    "```\n",
    "http://openexchangerates.org/api/historical/2011-10-18.json?app_id=xxx\n",
    "```\n",
    "For this we can use the `datetime` module.\n",
    "\n",
    "#### Recap: datetime\n",
    "\n",
    "We have already imported datetime. Here we would like to use it to generate a sequence of strings containing dates -- something that we learned how to do, but let's remind us how it is done:"
   ]
  },
  {
   "cell_type": "code",
   "execution_count": null,
   "metadata": {
    "scrolled": true
   },
   "outputs": [],
   "source": [
    "# create a datetime object from year, month, and day\n",
    "# (the hours and minutes default to midnight, but we don't need that)\n",
    "DT = datetime.datetime(1985, 10, 26)\n",
    "\n",
    "# strftime = string format time\n",
    "print(\"formatted date:\", DT.strftime(\"%Y-%m-%d\"))\n",
    "\n",
    "# current date and time\n",
    "Dnow = datetime.datetime.now()\n",
    "print(\"today:\", Dnow.strftime(\"%Y-%m-%d\"))\n",
    "\n",
    "# timedelta objects can be added to and subtracted \n",
    "td = datetime.timedelta(days=1)\n",
    "Dyester = Dnow-td\n",
    "print(\"yesterday:\", Dyester.strftime(\"%Y-%m-%d\"))\n"
   ]
  },
  {
   "cell_type": "markdown",
   "metadata": {},
   "source": [
    "We have recapped everything we need to create a list of dates for our requests.\n",
    "\n",
    "Through the next exercises you will make the USD-HUF exchange rate figure!"
   ]
  },
  {
   "cell_type": "markdown",
   "metadata": {},
   "source": [
    "### Exercise -- Date list\n",
    "\n",
    "Create a list called `dt_list` that contains datetime objects of the last 60 days including today.\n",
    "\n",
    "<details><summary><u>Hint.</u></summary>\n",
    "<p>\n",
    "    \n",
    "To get the `datetime` object `k` subtract `datetime.timedelta(days=k)` from today.\n",
    "    \n",
    "</p>\n",
    "</details>"
   ]
  },
  {
   "cell_type": "code",
   "execution_count": null,
   "metadata": {
    "scrolled": true
   },
   "outputs": [],
   "source": []
  },
  {
   "cell_type": "markdown",
   "metadata": {},
   "source": [
    "<details><summary><u>Solution.</u></summary>\n",
    "<p>\n",
    "\n",
    "\n",
    "```python\n",
    "dt_list = [Dnow - datetime.timedelta(days=t) for t in range(60)]\n",
    "dt_list = dt_list[::-1] #reversing the list so the oldest dates are in increasing order\n",
    "print(dt_list[:5])\n",
    "```\n",
    "\n",
    "    \n",
    "</p>\n",
    "</details>"
   ]
  },
  {
   "cell_type": "markdown",
   "metadata": {},
   "source": [
    "### Exercise -- Downloading the data\n",
    "\n",
    "Download the data needed for out USD-HUF figure:\n",
    "* Create a for loop over these dates.\n",
    "* In each iteration construct an URL to request the exchange rate for each date (like we did a few cells above).\n",
    "* Download the JSON exchange data.\n",
    "* Parse it using `json.loads`.\n",
    "* And save it to a list of dictionaries ``daily_data``.\n",
    "\n",
    "**Important**: It should take only a few seconds. If you are not sure your code works, test only with a few days, as you can reach the rate limit. \n",
    "\n",
    "<details><summary><u>Hint.</u></summary>\n",
    "<p>\n",
    "    \n",
    "When constructing the URLs use the `D.strftime(\"%Y-%m-%d\")` method to create the correct date format.\n",
    "</p>\n",
    "</details>"
   ]
  },
  {
   "cell_type": "code",
   "execution_count": null,
   "metadata": {},
   "outputs": [],
   "source": []
  },
  {
   "cell_type": "markdown",
   "metadata": {},
   "source": [
    "<details><summary><u>Solution.</u></summary>\n",
    "<p>\n",
    "\n",
    "\n",
    "```python\n",
    "url_begin = \"http://openexchangerates.org/api/historical/\"\n",
    "url_end = \".json?app_id=\"+app_id\n",
    "daily_data = []\n",
    "for D in dt_list:\n",
    "    URL = url_begin + D.strftime(\"%Y-%m-%d\") + url_end\n",
    "    result = urllib.request.urlopen(URL)\n",
    "    text = result.read()\n",
    "    data = json.loads(str(text,\"utf-8\"))\n",
    "    daily_data.append(data)\n",
    "```\n",
    "\n",
    "    \n",
    "</p>\n",
    "</details>"
   ]
  },
  {
   "cell_type": "markdown",
   "metadata": {},
   "source": [
    "I assume you have your `daily_data`. Now we can look at some data, for example the USD-EUR exchange rate yesterday was:"
   ]
  },
  {
   "cell_type": "code",
   "execution_count": null,
   "metadata": {},
   "outputs": [],
   "source": [
    "daily_data[-2]['rates']['EUR']"
   ]
  },
  {
   "cell_type": "markdown",
   "metadata": {},
   "source": [
    "### Exercise -- List of rates\n",
    "\n",
    "Create a list called `xrate_list` that contains the USD-HUF exchange rates for each day."
   ]
  },
  {
   "cell_type": "code",
   "execution_count": null,
   "metadata": {},
   "outputs": [],
   "source": []
  },
  {
   "cell_type": "markdown",
   "metadata": {},
   "source": [
    "<details><summary><u>Solution.</u></summary>\n",
    "<p>\n",
    "\n",
    "\n",
    "```python\n",
    "huf_xrate_list = [data['rates']['HUF'] for data in daily_data]\n",
    "huf_xrate_list[:5]\n",
    "```\n",
    "\n",
    "    \n",
    "</p>\n",
    "</details>"
   ]
  },
  {
   "cell_type": "markdown",
   "metadata": {},
   "source": [
    "### Exercise -- Plotting\n",
    "\n",
    "Plot the exchange rate versus the date. Check the documentation of the `plt.plot_date()` function. Try to make the plot look appealing.\n",
    "\n",
    "<details><summary><u>Hint.</u></summary>\n",
    "<p>\n",
    "    \n",
    "For example, check out the use of `plt.MaxNLocator()` to have fewer tics on the x axes.\n",
    "</p>\n",
    "</details>"
   ]
  },
  {
   "cell_type": "code",
   "execution_count": null,
   "metadata": {},
   "outputs": [],
   "source": []
  },
  {
   "cell_type": "markdown",
   "metadata": {},
   "source": [
    "<details><summary><u>Solution.</u></summary>\n",
    "<p>\n",
    "\n",
    "\n",
    "```python\n",
    "import matplotlib.pyplot as plt\n",
    "    \n",
    "fig, ax = plt.subplots(figsize=(8,4))\n",
    "\n",
    "plt.plot_date(dt_list, huf_xrate_list, \"o-\")\n",
    "\n",
    "#label the axes\n",
    "#plt.xlabel(\"Year\",        fontsize=14)\n",
    "plt.ylabel(\"HUF vs. USD\", fontsize=14);\n",
    "\n",
    "#to make it look nicer, we set the tics on the x axis so that the dates do not overlap\n",
    "ax.set_xticks(dt_list[10::20]);\n",
    "\n",
    "```\n",
    "\n",
    "    \n",
    "</p>\n",
    "</details>"
   ]
  },
  {
   "cell_type": "markdown",
   "metadata": {},
   "source": [
    "[Video explaining the solutions.](https://ceu.cloud.panopto.eu/Panopto/Pages/Viewer.aspx?id=2f3e4dfa-3bdc-4038-8d5a-acc400dddf81)"
   ]
  },
  {
   "cell_type": "markdown",
   "metadata": {},
   "source": [
    "## XML"
   ]
  },
  {
   "cell_type": "markdown",
   "metadata": {},
   "source": [
    "[Video](https://ceu.cloud.panopto.eu/Panopto/Pages/Viewer.aspx?id=0ba489d3-a006-4e9d-adf1-ab8200ccdb32).\n",
    "\n",
    "XML stands for Extendable Markup language.\n",
    "* A universal purpose markup language\n",
    "* Both human and computer readable\n",
    "* Represents information in a hierarchical way\n",
    "* Strict syntax rules → effective and unambiguous parsing\n",
    "* Stored in plain text\n",
    "* Many API use it for communication\n",
    "* Many file formats are special cases of XML:\n",
    "    * SVG: Scalable Vector Graphics\n",
    "    * RSS feeds\n",
    "    * Microsoft Word docx\n",
    "\n",
    "Let's take a look at an example (for further details see slides):\n",
    "\n",
    "```xml\n",
    "<?xml version=\"1.0\" encoding=\"UTF-8\"?>\n",
    "<breakfast_menu tasty=\"True\">\n",
    "  <food kind=\"vegan\">\n",
    "    <item>Belgian Waffles</item>\n",
    "    <price>$5.95</price>\n",
    "    <description>Two of our famous...</description>\n",
    "    <calories>650</calories>\n",
    "  </food>\n",
    "  <food>\n",
    "    <item>French Toast</item>\n",
    "    <price>$4.50</price>\n",
    "    <description>Thick slices made...</description>\n",
    "    <calories>600</calories>\n",
    "  </food>\n",
    "  <food>\n",
    "    <item>Homestyle Breakfast</item>\n",
    "    <price>$6.95</price>\n",
    "    <description>Two eggs, bacon...</description>\n",
    "    <calories>950</calories>\n",
    "  </food>\n",
    "</breakfast_menu>\n",
    "```\n"
   ]
  },
  {
   "cell_type": "markdown",
   "metadata": {},
   "source": [
    "[Video.](https://ceu.cloud.panopto.eu/Panopto/Pages/Viewer.aspx?id=28522003-574d-49b7-8b0e-acc900c255a0)\n",
    "\n",
    "An XML parser can help you navigate and manipulate the XML tree. We will use the module [Beautiful Soup](https://www.crummy.com/software/BeautifulSoup/bs4/doc/), technically it is built on top of a lower level parser with many useful functions."
   ]
  },
  {
   "cell_type": "code",
   "execution_count": 7,
   "metadata": {},
   "outputs": [
    {
     "data": {
      "text/plain": [
       "bs4.BeautifulSoup"
      ]
     },
     "execution_count": 7,
     "metadata": {},
     "output_type": "execute_result"
    }
   ],
   "source": [
    "from bs4 import BeautifulSoup\n",
    "\n",
    "with open(\"menu.xml\",\"r\",encoding='utf-8') as f:\n",
    "    #from the file we create a soup object\n",
    "    #we also specify the parser it uses as \"xml\", later we will use BeautifulSoup to parse html files too\n",
    "    soup = BeautifulSoup(f,\"xml\")\n",
    "type(soup)"
   ]
  },
  {
   "cell_type": "markdown",
   "metadata": {},
   "source": [
    "Now `soup` is the object that we will work with and it contains directly the root of the XML."
   ]
  },
  {
   "cell_type": "markdown",
   "metadata": {},
   "source": [
    "### Tags and attributes\n",
    "\n",
    "You can access tags and their attributes by their names very simply:"
   ]
  },
  {
   "cell_type": "code",
   "execution_count": 8,
   "metadata": {
    "scrolled": false
   },
   "outputs": [
    {
     "name": "stdout",
     "output_type": "stream",
     "text": [
      "<class 'bs4.element.Tag'>\n",
      "\n",
      "breakfast_menu\n",
      "\n",
      "True\n",
      "\n"
     ]
    }
   ],
   "source": [
    "#access child by name\n",
    "print(type(soup.breakfast_menu))\n",
    "print()\n",
    "\n",
    "#get name of the tag\n",
    "print(soup.breakfast_menu.name)\n",
    "print()\n",
    "\n",
    "#get attributes of a tag as a dictionary\n",
    "print(soup.breakfast_menu['tasty'])\n",
    "print()\n"
   ]
  },
  {
   "cell_type": "markdown",
   "metadata": {},
   "source": [
    "The `text` property of a tag returns all the text contained inside the start `<sometag>` and the end `<\\sometag>` of the tag, this includes the text inside any descendent tag. While the `string` property only returns the text directly contained in the tag, excluding descendents. For example:"
   ]
  },
  {
   "cell_type": "code",
   "execution_count": null,
   "metadata": {},
   "outputs": [],
   "source": [
    "#if multiple children with the same tag, we get the first one\n",
    "#text: all text, including text contained by offspring\n",
    "print(soup.breakfast_menu.food.text)\n",
    "print()\n",
    "\n",
    "#string: only the text directly inside tag\n",
    "print(soup.breakfast_menu.food.item.string)"
   ]
  },
  {
   "cell_type": "markdown",
   "metadata": {},
   "source": [
    "Note that if multiple children tags have the same name (e.g. `<food>`) the first one is returned.\n",
    "\n",
    "We can also change things, for example:"
   ]
  },
  {
   "cell_type": "code",
   "execution_count": null,
   "metadata": {},
   "outputs": [],
   "source": [
    "print(soup.breakfast_menu.food.item.string)\n",
    "soup.breakfast_menu.food.item.string = \"Yummy Belgian Waffles\"\n",
    "print(soup.breakfast_menu.food.item.string)"
   ]
  },
  {
   "cell_type": "markdown",
   "metadata": {},
   "source": [
    "### Navigating the tree\n",
    "\n",
    "Beautiful Soup has methods that allow traversing the tag tree of the XML file.\n",
    "\n",
    "* Moving down: iterate through the children of a tag"
   ]
  },
  {
   "cell_type": "code",
   "execution_count": null,
   "metadata": {
    "scrolled": true
   },
   "outputs": [],
   "source": [
    "#the first food on the menu\n",
    "food1 = soup.breakfast_menu.food\n",
    "\n",
    "list_of_children = list(food1.children)\n",
    "print(list_of_children)\n",
    "print()\n",
    "\n",
    "#children also include strings containing end of line characters, to exclude them\n",
    "for child in food1.children:\n",
    "    if child != '\\n':\n",
    "        print(child)\n"
   ]
  },
  {
   "cell_type": "markdown",
   "metadata": {},
   "source": [
    "Note that the `children` iterable contains all text directly inside the tag as a child, this means that the end-of-line characters `\\n` (which are added for readability) are also listed as children. You can exclude them with an `if` statement when iterating."
   ]
  },
  {
   "cell_type": "markdown",
   "metadata": {},
   "source": [
    "* Moving up: get the parent of a tag"
   ]
  },
  {
   "cell_type": "code",
   "execution_count": null,
   "metadata": {},
   "outputs": [],
   "source": [
    "print(food1.parent.name)"
   ]
  },
  {
   "cell_type": "markdown",
   "metadata": {},
   "source": [
    "* You can also move sideways: check documentation for `next_siblings` and `previous_siblings`\n",
    "\n",
    "## Searching\n",
    "\n",
    "Most often instead of navigating up and down the tree we search for tags that match some requirements. For this we can use:\n",
    "* Find the first match: `soup.find()`\n",
    "* Find all matches: `soup.find_all()`\n",
    "\n",
    "We can specify what we are searching for in various ways:\n",
    "* Search based on tag names:"
   ]
  },
  {
   "cell_type": "code",
   "execution_count": null,
   "metadata": {},
   "outputs": [],
   "source": [
    "for food in soup.find_all(\"food\"):\n",
    "    print(food.item.string)"
   ]
  },
  {
   "cell_type": "markdown",
   "metadata": {},
   "source": [
    "* Search based on attributes:"
   ]
  },
  {
   "cell_type": "code",
   "execution_count": null,
   "metadata": {},
   "outputs": [],
   "source": [
    "for vegan_stuff in soup.find_all(kind=\"vegan\"):\n",
    "    print(vegan_stuff.item.text)"
   ]
  },
  {
   "cell_type": "markdown",
   "metadata": {},
   "source": [
    "* We can even use functions! This is a powerful tool that allows for very complex searches. For example, we can look for food options that have waffles in their description:"
   ]
  },
  {
   "cell_type": "code",
   "execution_count": 2,
   "metadata": {},
   "outputs": [
    {
     "name": "stdout",
     "output_type": "stream",
     "text": [
      "Belgian Waffles\n",
      "Strawberry Belgian Waffles\n",
      "Berry-Berry Belgian Waffles\n"
     ]
    }
   ],
   "source": [
    "#the function takes a tag as input\n",
    "#outputs True if it's a match, False if it's not\n",
    "def match(tag):\n",
    "    if tag.name==\"food\": #check if it is a food\n",
    "        if \"Waffles\" in tag.text: #check if waffles are mentioned \n",
    "            return True\n",
    "    #if we didn't return True, we return False\n",
    "    return False\n",
    "\n",
    "for waffles in soup.find_all(match):\n",
    "    print(waffles.item.string)\n"
   ]
  },
  {
   "cell_type": "markdown",
   "metadata": {},
   "source": [
    "* Or we can do the same thing using lambda functions:"
   ]
  },
  {
   "cell_type": "code",
   "execution_count": null,
   "metadata": {},
   "outputs": [],
   "source": [
    "for waffles in soup.find_all(lambda tag: tag.name==\"food\" and \"Waffles\" in tag.text):\n",
    "    print(waffles.item.string)"
   ]
  },
  {
   "cell_type": "markdown",
   "metadata": {},
   "source": [
    "### Exercise\n",
    "\n",
    "Print out the price of all food items.\n",
    "\n",
    "<details><summary><u>Hint</u></summary>\n",
    "<p>\n",
    "\n",
    "You are looking for the `<price>` tags, use the `soup.find_all()` function to get all matches.\n",
    "    \n",
    "</p>\n",
    "</details>"
   ]
  },
  {
   "cell_type": "code",
   "execution_count": null,
   "metadata": {},
   "outputs": [],
   "source": []
  },
  {
   "cell_type": "markdown",
   "metadata": {},
   "source": [
    "<details><summary><u>Solution.</u></summary>\n",
    "<p>\n",
    "    \n",
    "```python\n",
    "for price in soup.find_all(\"price\"):\n",
    "    print(price.string)\n",
    "```\n",
    "    \n",
    "</p>\n",
    "</details>"
   ]
  },
  {
   "cell_type": "markdown",
   "metadata": {},
   "source": [
    "### Exercise\n",
    "Calculate the average calorie of the food options.\n",
    "\n",
    "<details><summary><u>Hint</u></summary>\n",
    "<p>\n",
    "\n",
    "The calories are in string format, you have to convert them to a number using the `float()` function. If you store these numbers in a list, you can use `numpy`'s `np.mean()` function to get the average.\n",
    "    \n",
    "</p>\n",
    "</details>"
   ]
  },
  {
   "cell_type": "code",
   "execution_count": null,
   "metadata": {},
   "outputs": [],
   "source": []
  },
  {
   "cell_type": "markdown",
   "metadata": {},
   "source": [
    "<details><summary><u>Solution.</u></summary>\n",
    "<p>\n",
    "    \n",
    "```python\n",
    "import numpy as np\n",
    "calories = [float(cal.string) for cal in soup.find_all(\"calories\")]\n",
    "print(\"%.2f\"%np.mean(calories))\n",
    "```\n",
    "    \n",
    "</p>\n",
    "</details>"
   ]
  },
  {
   "cell_type": "markdown",
   "metadata": {},
   "source": [
    "### Exercise\n",
    "Print out all food items that have less than 800 calories\n",
    "<details><summary><u>Hint</u></summary>\n",
    "<p>\n",
    "\n",
    "This is a bit more tricky. You can define `match(tag)` function to use with `find_all()` as we did when we were searching for waffles. To get the calories withing the `mahtch(tag)` function use `tag.calories.string`.\n",
    "\n",
    "</p>\n",
    "</details>"
   ]
  },
  {
   "cell_type": "code",
   "execution_count": null,
   "metadata": {},
   "outputs": [],
   "source": []
  },
  {
   "cell_type": "markdown",
   "metadata": {},
   "source": [
    "<details><summary><u>Solution.</u></summary>\n",
    "<p>\n",
    "    \n",
    "```python\n",
    "def match(tag):\n",
    "    if tag.name==\"food\":\n",
    "        if float(tag.calories.string)<800:\n",
    "            return True\n",
    "    return False\n",
    "\n",
    "for food in soup.find_all(match):\n",
    "    print(food.item.string)\n",
    "\n",
    "#or with a lambda function\n",
    "for food in soup.find_all(lambda tag: tag.name==\"food\" and float(tag.calories.text)<800):\n",
    "    print(food.item.string)\n",
    "```\n",
    "    \n",
    "</p>\n",
    "</details>"
   ]
  },
  {
   "cell_type": "markdown",
   "metadata": {},
   "source": [
    "### Exercise\n",
    "You are worried about global warming and you would like to encourage people to reduce their carbon footprint. Reduce the price of all vegan items by 10 percent!\n",
    "\n",
    "<details><summary><u>Hint</u></summary>\n",
    "<p>\n",
    "\n",
    "In a previous example, we already searched for vegan items. Scroll back if you don't remember how.\n",
    "\n",
    "You can modify the string contained in a tag simply by overwriting it, e.g., `food.price.sting = new_price`.\n",
    "</p>\n",
    "</details>"
   ]
  },
  {
   "cell_type": "code",
   "execution_count": null,
   "metadata": {},
   "outputs": [],
   "source": []
  },
  {
   "cell_type": "markdown",
   "metadata": {},
   "source": [
    "<details><summary><u>Solution.</u></summary>\n",
    "<p>\n",
    "    \n",
    "```python\n",
    "for food in soup.find_all(kind='vegan'):\n",
    "    #convert price to number\n",
    "    price = float(food.price.string[1:])\n",
    "    #calculate new price\n",
    "    new_price = .9*price\n",
    "    #convert new price to string\n",
    "    new_str = \"$%.2f\"%new_price\n",
    "    #update xml\n",
    "    food.price.string = new_str\n",
    "    \n",
    "#test\n",
    "for food in soup.find_all('food'):\n",
    "    print(food.item.string, food.price.string)\n",
    "```\n",
    "    \n",
    "</p>\n",
    "</details>"
   ]
  },
  {
   "cell_type": "markdown",
   "metadata": {},
   "source": [
    "## Webscraping by parsing HTML\n",
    "\n",
    "[Video.](https://ceu.cloud.panopto.eu/Panopto/Pages/Viewer.aspx?id=276ebf77-45c6-464b-9ba4-ab8200e4194f)\n",
    "\n",
    "HTML stands for Hypertext Markup Language, it is a text file that describes how a website looks. When you open a website in your browser, it downloads the HTML file and translates it into what you see.\n",
    "\n",
    "You can view the HTML source code of a website by hitting ctrl-u (or Command+Option+u in Safari). For a simple example visit [this site](http://posfaim.web.elte.hu/example.html) and look at the source code.\n",
    "\n",
    "It looks very similar to an XML file, but there are some differences. Check out the additional slides and the next video for more details."
   ]
  },
  {
   "cell_type": "markdown",
   "metadata": {},
   "source": [
    "[Video.](https://ceu.cloud.panopto.eu/Panopto/Pages/Viewer.aspx?id=6f20236b-24b1-4a60-8457-acc900cacb7b)\n",
    "\n",
    "We can use Beautiful Soup to parse and search the website as we did with XML before! Let's open the website using the `urllib.request` module and create a soup object:"
   ]
  },
  {
   "cell_type": "code",
   "execution_count": 3,
   "metadata": {},
   "outputs": [],
   "source": [
    "import urllib.request\n",
    "webpage = urllib.request.urlopen(\"http://posfaim.web.elte.hu/example.html\")\n",
    "soup = BeautifulSoup(webpage,\"lxml\") "
   ]
  },
  {
   "cell_type": "markdown",
   "metadata": {},
   "source": [
    "Note that we use a different parser, the HTML parser is confusingly called `\"lxml\"`.\n",
    "\n",
    "Now we can navigate and search the HTML tree. For example, we can access tags by their names:"
   ]
  },
  {
   "cell_type": "code",
   "execution_count": 4,
   "metadata": {},
   "outputs": [
    {
     "name": "stdout",
     "output_type": "stream",
     "text": [
      " My simple website\n"
     ]
    }
   ],
   "source": [
    "#for example, we can access tags by their names\n",
    "title = soup.html.head.title.string\n",
    "print(title)"
   ]
  },
  {
   "cell_type": "markdown",
   "metadata": {},
   "source": [
    "Or we can find the table and access the data in it:"
   ]
  },
  {
   "cell_type": "code",
   "execution_count": null,
   "metadata": {},
   "outputs": [],
   "source": [
    "#there is only one table on the webpage, so we can use the find() function\n",
    "#which returns the first match\n",
    "table = soup.find(\"table\") \n",
    "\n",
    "for row in table.find_all(\"tr\")[1:]: #iterate through the rows of the table, we skip the header\n",
    "    animal = row.th.string.strip().lower() #get the row headers, and make the string look prettier\n",
    "    \n",
    "    cells = row.find_all(\"td\") # get all cells in the row\n",
    "    legs = cells[2].string.strip() #grab the third one\n",
    "    print(\"The \"+animal+\" has \"+legs+\" legs.\")"
   ]
  },
  {
   "cell_type": "markdown",
   "metadata": {},
   "source": [
    "### Exercise\n",
    "\n",
    "Find all links on the page and print out all urls that they point to. If you forgot what tags represent links, look at the website's source code.\n",
    "\n",
    "<details><summary><u>Hint</u></summary>\n",
    "<p>\n",
    "\n",
    "To access the attribute `att` of a tag use `tag['att']`.    \n",
    "</p>\n",
    "</details>"
   ]
  },
  {
   "cell_type": "code",
   "execution_count": null,
   "metadata": {},
   "outputs": [],
   "source": []
  },
  {
   "cell_type": "markdown",
   "metadata": {},
   "source": [
    "<details><summary><u>Solution.</u></summary>\n",
    "<p>\n",
    "    \n",
    "```python\n",
    "for a in soup.find_all(\"a\"):\n",
    "    print(a['href'])\n",
    "```\n",
    "    \n",
    "</p>\n",
    "</details>"
   ]
  },
  {
   "cell_type": "markdown",
   "metadata": {},
   "source": [
    "## World population over time\n",
    "\n",
    "Now for some real webscraping! Our task is to plot the world population as a function of time based on this [table](https://en.wikipedia.org/wiki/World_population#Past_population) found on Wikipedia. Your first step is to investigate the source code of the website, you will find that it is more complex and longer than our first little example."
   ]
  },
  {
   "cell_type": "markdown",
   "metadata": {},
   "source": [
    "### Exercise\n",
    "\n",
    "Dowload the https://en.wikipedia.org/wiki/World_population webpage and create a soup object called `pop_soup`.\n",
    "\n",
    "<details><summary><u>Hint</u></summary>\n",
    "<p>\n",
    "\n",
    "You can use the same code as we used to download the simple example website, you only have to change the URL.    \n",
    "</p>\n",
    "</details>"
   ]
  },
  {
   "cell_type": "code",
   "execution_count": null,
   "metadata": {},
   "outputs": [],
   "source": []
  },
  {
   "cell_type": "markdown",
   "metadata": {},
   "source": [
    "<details><summary><u>Solution.</u></summary>\n",
    "<p>\n",
    "    \n",
    "```python\n",
    "webpage = urllib.request.urlopen(\"https://en.wikipedia.org/wiki/World_population\")\n",
    "pop_soup = BeautifulSoup(webpage,\"lxml\") \n",
    "```\n",
    "    \n",
    "</p>\n",
    "</details>"
   ]
  },
  {
   "cell_type": "markdown",
   "metadata": {},
   "source": [
    "[Watch video](https://ceu.cloud.panopto.eu/Panopto/Pages/Viewer.aspx?id=3d773823-6623-4da1-ac87-ab82012d0aa2)\n",
    "\n",
    "Open the source code of the website https://en.wikipedia.org/wiki/World_population in your browser. Let's try to figure out a way to find the `<table>` tag containing the \"Past population\" table.\n",
    "\n",
    "One possibility if to search for the pattern \"<table\" in your browser using `ctrl-f`, this will find and count the tables. Iterating throught them by hand, we can see that our table of interest is the 11th."
   ]
  },
  {
   "cell_type": "code",
   "execution_count": null,
   "metadata": {},
   "outputs": [],
   "source": [
    "table = pop_soup.find_all(\"table\")[10]"
   ]
  },
  {
   "cell_type": "markdown",
   "metadata": {},
   "source": [
    "Another possibility is that we notice that this is the only table that has BC dates in them."
   ]
  },
  {
   "cell_type": "code",
   "execution_count": null,
   "metadata": {},
   "outputs": [],
   "source": [
    "table = pop_soup.find(lambda tag: tag.name==\"table\" and \"BC\" in tag.text)"
   ]
  },
  {
   "cell_type": "markdown",
   "metadata": {},
   "source": [
    "Here we used `tag.text`, remember `tag.string` is the text directly in the tag, `tag.text` is all the text stored in the tag, its children and other descedents."
   ]
  },
  {
   "cell_type": "markdown",
   "metadata": {},
   "source": [
    "Now we have the table, lets extract the year column:"
   ]
  },
  {
   "cell_type": "code",
   "execution_count": null,
   "metadata": {},
   "outputs": [],
   "source": [
    "year_list = []\n",
    "for row in table.find_all(\"tr\")[1:]: #we leave out the first row, because that is just a header\n",
    "    #the year is in the row headers\n",
    "    year_list.append(row.th.string)\n",
    "    \n",
    "print(year_list)\n",
    "    "
   ]
  },
  {
   "cell_type": "markdown",
   "metadata": {},
   "source": [
    "If we want to use this for a plot, we have to convert these strings into numbers."
   ]
  },
  {
   "cell_type": "code",
   "execution_count": null,
   "metadata": {},
   "outputs": [],
   "source": []
  },
  {
   "cell_type": "markdown",
   "metadata": {},
   "source": [
    "### Exercise\n",
    "\n",
    "Obtain a list `num_pop_list` containing the world population as a number. Treat \"<0.015\" as \"0.015\".\n",
    "\n",
    "<details><summary><u>Hint</u></summary>\n",
    "<p>\n",
    "\n",
    "Do something similar as the previous example. Remove `,` and `<` characters and convert the string to a float. \n",
    "    \n",
    "</p>\n",
    "</details>"
   ]
  },
  {
   "cell_type": "code",
   "execution_count": null,
   "metadata": {
    "scrolled": true
   },
   "outputs": [],
   "source": []
  },
  {
   "cell_type": "markdown",
   "metadata": {},
   "source": [
    "<details><summary><u>Solution.</u></summary>\n",
    "<p>\n",
    "    \n",
    "```python\n",
    "num_pop_list = []\n",
    "for row in table.find_all(\"tr\")[1:]: #we leave out the first row, because that is just a header\n",
    "    #the world population is the first column\n",
    "    #if we refer to the tag <td> by name, it returns the first instance\n",
    "    pop = row.td.string\n",
    "    #remove '<'\n",
    "    pop = pop.replace(\"<\",\"\")\n",
    "    #remove ','\n",
    "    pop = pop.replace(\",\",\"\")\n",
    "    num_pop_list.append(float(pop))\n",
    "    \n",
    "print(num_pop_list)\n",
    "```\n",
    "    \n",
    "</p>\n",
    "</details>"
   ]
  },
  {
   "cell_type": "markdown",
   "metadata": {},
   "source": [
    "### Exercise\n",
    "\n",
    "Plot the world population as a function of the year. The oldest datapoints are rough estimates, try excluding them.\n",
    "\n",
    "Bonus: Is the growth exponential? Try setting the y axis to log scale too! \n",
    "\n",
    "<details><summary><u>Hint</u></summary>\n",
    "<p>\n",
    "\n",
    "Import `matplotlib.pyplot` and use the `plot()` function. To set the y axis to logscale, you can use `plt.yscale(\"log\")`. To exclude the 3 oldest datapoints use `num_pop_list[3:]`.\n",
    "    \n",
    "</p>\n",
    "</details>"
   ]
  },
  {
   "cell_type": "code",
   "execution_count": null,
   "metadata": {},
   "outputs": [],
   "source": []
  },
  {
   "cell_type": "markdown",
   "metadata": {},
   "source": [
    "<details><summary><u>Solution.</u></summary>\n",
    "<p>\n",
    "    \n",
    "```python\n",
    "import matplotlib.pyplot as plt\n",
    "\n",
    "fig, axes = plt.subplots(1,2,figsize=(14,5))\n",
    "\n",
    "axes[0].set_xlabel(\"Year\")\n",
    "axes[0].set_ylabel(\"Population [million]\")\n",
    "axes[0].plot(num_year_list[3:],num_pop_list[3:],'o-')\n",
    "\n",
    "axes[1].set_xlabel(\"Year\")\n",
    "axes[1].set_ylabel(\"Population [million]\")\n",
    "axes[1].plot(num_year_list[3:],num_pop_list[3:],'o-g')\n",
    "plt.yscale('log')\n",
    "```\n",
    "    \n",
    "</p>\n",
    "</details>"
   ]
  },
  {
   "cell_type": "markdown",
   "metadata": {},
   "source": [
    "## Remark\n",
    "\n",
    "We used bare-bones `urllib.request` calls to download the contents of websites; however, this approach might not work for several reasons:\n",
    "* You might have to log into a website to access its contents, so you have to figure out how to authenticate your requests, see [urllib.request docs](https://docs.python.org/3/library/urllib.request.html#examples).\n",
    "* A website displayed in your browser might be generated by javascript executed by your browser. To a access such content you have to execute these scripts yourself, see [Selenium](https://selenium-python.readthedocs.io/)."
   ]
  },
  {
   "cell_type": "code",
   "execution_count": null,
   "metadata": {},
   "outputs": [],
   "source": []
  }
 ],
 "metadata": {
  "kernelspec": {
   "display_name": "Python 3",
   "language": "python",
   "name": "python3"
  },
  "language_info": {
   "codemirror_mode": {
    "name": "ipython",
    "version": 3
   },
   "file_extension": ".py",
   "mimetype": "text/x-python",
   "name": "python",
   "nbconvert_exporter": "python",
   "pygments_lexer": "ipython3",
   "version": "3.6.10"
  }
 },
 "nbformat": 4,
 "nbformat_minor": 4
}
