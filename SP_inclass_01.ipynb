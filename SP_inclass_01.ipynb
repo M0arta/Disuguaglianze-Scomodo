{
 "cells": [
  {
   "cell_type": "markdown",
   "metadata": {},
   "source": [
    "# Scientific Python\n",
    "## Central European University\n",
    "\n",
    "## 01 Strings, lists, control flow -- Exercises\n",
    "\n",
    "Instructor: Márton Pósfai, TA: Luka Blagojevic\n",
    "\n",
    "Email: posfaim@ceu.edu, Blagojevic_Luka@phd.ceu.edu"
   ]
  },
  {
   "cell_type": "markdown",
   "metadata": {},
   "source": [
    "*Don't forget:* use the Slack channel for discussion, to ask questions, or to show solutions to exercises that are different from the ones provided in the notebook. [Slack channel](http://www.personal.ceu.edu/staff/Marton_Posfai/slack_forward.html)"
   ]
  },
  {
   "cell_type": "markdown",
   "metadata": {},
   "source": [
    "## This week's topics\n",
    "\n",
    "- Python's memory usage\n",
    "- Strings + regular expressions -> extract information from a website\n",
    "- Lists comprehensions\n",
    "- Defining our own functions"
   ]
  },
  {
   "cell_type": "markdown",
   "metadata": {},
   "source": [
    "## Exercises"
   ]
  },
  {
   "cell_type": "markdown",
   "metadata": {},
   "source": [
    "### 01 Looping\n",
    "\n",
    "Write a code that prints out all pairs of positive integers that sum up to 12, e.g., 1 and 11.\n",
    "\n",
    "<details><summary><u>Hint.</u></summary>\n",
    "<p>\n",
    "    \n",
    "`i` and `12-i` sum up to 12 for any `i`.\n",
    "    \n",
    "</p>\n",
    "</details>"
   ]
  },
  {
   "cell_type": "code",
   "execution_count": null,
   "metadata": {},
   "outputs": [],
   "source": []
  },
  {
   "cell_type": "markdown",
   "metadata": {},
   "source": [
    "<details><summary><u>Solution.</u></summary>\n",
    "<p>\n",
    "    \n",
    "```python\n",
    "for i in range(12):\n",
    "    print(i,12-i)\n",
    "```\n",
    "    \n",
    "</p>\n",
    "</details>"
   ]
  },
  {
   "cell_type": "markdown",
   "metadata": {},
   "source": [
    "### 02 String reverse\n",
    "Write a code which reverses a string. E.g.<br>\n",
    "\"A Santa snaps pans at NASA\" -> \"ASAN ta snap spans atnaS A\"\n",
    "\n",
    "<details><summary><u>Hint.</u></summary>\n",
    "<p>\n",
    "You can iterate through the characters of a string:\n",
    "    \n",
    "```python\n",
    "for c in s1:\n",
    "    stuff\n",
    "```\n",
    "And `+` concatenates two strings.\n",
    "    \n",
    "</p>\n",
    "</details>"
   ]
  },
  {
   "cell_type": "code",
   "execution_count": null,
   "metadata": {},
   "outputs": [],
   "source": [
    "s1=\"A Santa snaps pans at NASA\"\n"
   ]
  },
  {
   "cell_type": "markdown",
   "metadata": {},
   "source": [
    "<details><summary><u>Solution.</u></summary>\n",
    "<p>\n",
    "    \n",
    "```python\n",
    "#solution 1\n",
    "s2=''\n",
    "for c in s1:\n",
    "    s2=c+s2\n",
    "print(s2)\n",
    "\n",
    "#solution 2\n",
    "s3=s1[::-1]\n",
    "print(s3)\n",
    "```\n",
    "    \n",
    "</p>\n",
    "</details>"
   ]
  },
  {
   "cell_type": "markdown",
   "metadata": {},
   "source": [
    "### 03 For and if -- Discussion exercise\n",
    "a = \\[ 7, 3 ,8 , 10, 7, 1, 9, 1, 5\\]<br>\n",
    "1. Write a code which returns the minimum of the above list\n",
    "2. Write a code which returns the position of the minima of the above list as a list <br>\n",
    "\n",
    "Try writing your own code using loops and conditional statements, then google it too.\n",
    "\n",
    "<details><summary><u>Hint.</u></summary>\n",
    "<p>\n",
    "Iterate through the list and store the minimum value you have encountered so far.\n",
    "    \n",
    "```python\n",
    "for x in a:\n",
    "    is x the smallest so far?\n",
    "```\n",
    "    \n",
    "</p>\n",
    "</details>"
   ]
  },
  {
   "cell_type": "code",
   "execution_count": null,
   "metadata": {},
   "outputs": [],
   "source": [
    "a = [ 7, 3, 8, 10, 7, 1, 9, 1, 5]"
   ]
  },
  {
   "cell_type": "markdown",
   "metadata": {},
   "source": [
    "**Share your solution on Slack. We will discuss the problem during class together.**"
   ]
  },
  {
   "cell_type": "markdown",
   "metadata": {},
   "source": [
    "### 04 String methods\n",
    "Write a code which prints out all second characters after a period (.) in a string only if it is an uppercase letter.\n",
    "\n",
    "<details><summary><u>Hint.</u></summary>\n",
    "<p>\n",
    "You can iterate through the characters of a string by their index as:\n",
    "    \n",
    "```python\n",
    "for i in range(len(s1)):\n",
    "    print(s1[i])\n",
    "```\n",
    "    \n",
    "</p>\n",
    "</details>"
   ]
  },
  {
   "cell_type": "code",
   "execution_count": null,
   "metadata": {},
   "outputs": [],
   "source": [
    "lorem = \"Lorem ipsum dolor sit amet, consectetur adipiscing elit, \\\n",
    "sed do eiusmod tempor incididunt ut labore et dolore magna aliqua. Ut enim \\\n",
    "ad minim veniam, quis nostrud exercitation ullamco laboris nisi ut aliquip ex \\\n",
    "ea commodo consequat. Duis aute irure dolor in reprehenderit in voluptate velit esse \\\n",
    "cillum dolore eu fugiat nulla pariatur. Excepteur sint occaecat cupidatat non \\\n",
    "proident. sunt in culpa qui officia deserunt mollit anim id est laborum.\"\n",
    "\n"
   ]
  },
  {
   "cell_type": "markdown",
   "metadata": {},
   "source": [
    "<details><summary><u>Solution.</u></summary>\n",
    "<p>\n",
    "    \n",
    "```python\n",
    "#solution 1\n",
    "for i in range(len(lorem)-2):\n",
    "    if lorem[i]=='.' and lorem[i+2].isupper():\n",
    "            print(lorem[i+2])\n",
    "\n",
    "#solution 2\n",
    "for s in lorem.split('.')[1:]:\n",
    "        if len(s)>=2 and s[1].isupper():\n",
    "            print(s[1])\n",
    "```\n",
    "    \n",
    "</p>\n",
    "</details>"
   ]
  },
  {
   "cell_type": "markdown",
   "metadata": {},
   "source": [
    "### 05 While loop\n",
    "Print out the largest [Fibonacci number](https://en.wikipedia.org/wiki/Fibonacci_number) smaller than 1000.\n",
    "\n",
    "<details><summary><u>Hint.</u></summary>\n",
    "<p>\n",
    "    \n",
    "Build a list containing the Fibonacci numbers. Start with `[0,1]` and always append the next number in the sequence.   \n",
    "</p>\n",
    "</details>"
   ]
  },
  {
   "cell_type": "code",
   "execution_count": null,
   "metadata": {},
   "outputs": [],
   "source": []
  },
  {
   "cell_type": "markdown",
   "metadata": {},
   "source": [
    "Share your solution onWe will discuss solutions for this exercise"
   ]
  },
  {
   "cell_type": "markdown",
   "metadata": {},
   "source": [
    "<details><summary><u>Solution.</u></summary>\n",
    "<p>\n",
    "    \n",
    "```python\n",
    "F = [0,1]\n",
    "while F[-1]<1000:\n",
    "    F.append(F[-1]+F[-2])\n",
    "print(F[-2])\n",
    "```\n",
    "    \n",
    "</p>\n",
    "</details>"
   ]
  },
  {
   "cell_type": "markdown",
   "metadata": {},
   "source": [
    "### 05 List comprehension\n",
    "\n",
    "In a single line of code, count the number of negative values in a list `L` containing numbers.\n",
    "\n",
    "<details><summary><u>Hint.</u></summary>\n",
    "<p>\n",
    "    \n",
    "Use a list comprehension to filter the negative values from `L` and use the function `len` to get the number of elements in the new list.\n",
    "\n",
    "</p>\n",
    "</details>"
   ]
  },
  {
   "cell_type": "code",
   "execution_count": null,
   "metadata": {},
   "outputs": [],
   "source": [
    "L = [-2,0,12,-1212,34,-3] # example list\n"
   ]
  },
  {
   "cell_type": "markdown",
   "metadata": {},
   "source": [
    "<details><summary><u>Solution.</u></summary>\n",
    "<p>\n",
    "    \n",
    "```python\n",
    "len([i for i in L if i<0])\n",
    "```\n",
    "    \n",
    "</p>\n",
    "</details>"
   ]
  },
  {
   "cell_type": "markdown",
   "metadata": {},
   "source": [
    "### 06 List comprehension\n",
    "\n",
    "Write a list comprehension that creates a list based on a list of strings containing how many letter a-s each string has.\n",
    "E.g.\n",
    "l = \\[ \"alma\", \"apple\", \"pomme\", \"Apfel\", \"תפוח\" \\] to \n",
    "la = \\[ 2, 1, 0, 1, 0 \\]\n",
    "\n",
    "<details><summary><u>Hint.</u></summary>\n",
    "<p>\n",
    "    \n",
    "You can count the occurances of a character `c` in a list `l` using the method `l.count(c)`.\n",
    "    \n",
    "</p>\n",
    "</details>"
   ]
  },
  {
   "cell_type": "code",
   "execution_count": null,
   "metadata": {
    "scrolled": true
   },
   "outputs": [],
   "source": [
    "l = [ \"alma\", \"apple\", \"pomme\", \"Apfel\", \"תפוח\" ]\n"
   ]
  },
  {
   "cell_type": "markdown",
   "metadata": {},
   "source": [
    "<details><summary><u>Solution.</u></summary>\n",
    "<p>\n",
    "    \n",
    "```python\n",
    "    \n",
    "la = [s.count('a')+s.count('A') for s in l]\n",
    "print(la)\n",
    "\n",
    "```\n",
    "    \n",
    "</p>\n",
    "</details>"
   ]
  },
  {
   "cell_type": "markdown",
   "metadata": {},
   "source": [
    "### 07 List comprehension\n",
    "Write a small code which creates the list of list in which the element `i` has `i` elements from `0` to `i-1`. E.g.:\n",
    "```python\n",
    "[[], [0], [0, 1], [0, 1, 2], [0, 1, 2, 3]]\n",
    "```\n",
    "\n",
    "<details><summary><u>Hint.</u></summary>\n",
    "<p>\n",
    "    \n",
    "The `i`th element of this list of list should be\n",
    "```python\n",
    "[j for j in range(i)]\n",
    "```\n",
    "</p>\n",
    "</details>"
   ]
  },
  {
   "cell_type": "code",
   "execution_count": null,
   "metadata": {},
   "outputs": [],
   "source": []
  },
  {
   "cell_type": "markdown",
   "metadata": {},
   "source": [
    "<details><summary><u>Solution.</u></summary>\n",
    "<p>\n",
    "    \n",
    "```python\n",
    "[[j for j in range(i)] for i in range(10)]\n",
    "```\n",
    "    \n",
    "</p>\n",
    "</details>"
   ]
  },
  {
   "cell_type": "markdown",
   "metadata": {},
   "source": [
    "### 08 Lists\n",
    "Write a code which gives you back a list of all pairs of numbers where both of them are less than 10 and the first is divisible by the other\n",
    "\n",
    "<details><summary><u>Hint.</u></summary>\n",
    "<p>\n",
    "\n",
    "To test if `i` is divisible by `j` write:\n",
    "```python\n",
    "i%j==0\n",
    "```\n",
    "    \n",
    "</p>\n",
    "</details>"
   ]
  },
  {
   "cell_type": "code",
   "execution_count": null,
   "metadata": {
    "scrolled": true
   },
   "outputs": [],
   "source": []
  },
  {
   "cell_type": "markdown",
   "metadata": {},
   "source": [
    "<details><summary><u>Solution.</u></summary>\n",
    "<p>\n",
    "    \n",
    "```python\n",
    "#solution 1\n",
    "l = []\n",
    "for i in range(1,10):\n",
    "    for j in range(1,10):\n",
    "        if i%j==0:\n",
    "            l+=[(i,j)]\n",
    "print(l)\n",
    "\n",
    "#solution 2\n",
    "l=[(i,j) for i in range(1,10) for j in range(1,10) if i%j==0]\n",
    "print(l)\n",
    "```\n",
    "    \n",
    "</p>\n",
    "</details>"
   ]
  },
  {
   "cell_type": "markdown",
   "metadata": {},
   "source": [
    "## Final quiz\n",
    "\n",
    "Complete the quiz on Moodle! \n",
    "\n",
    "**Don not worry, this quiz is not graded.** The goal is to get a picture of your current python proficiency. If you find the quiz very hard, you should expect that you will have to put more effort into the course than otherwise.\n",
    "\n",
    "This quiz will not be graded, but the final problem of the rest of the notebooks will be.\n",
    "\n",
    "Good luck!\n"
   ]
  },
  {
   "cell_type": "markdown",
   "metadata": {},
   "source": [
    "## Reminder\n",
    "\n",
    "Material for the next class is published today, you will have one week to go through the notebook. Next in-person class we will do exercises and you will have to submit a final problem on moodle by the following day."
   ]
  }
 ],
 "metadata": {
  "kernelspec": {
   "display_name": "Python 3",
   "language": "python",
   "name": "python3"
  },
  "language_info": {
   "codemirror_mode": {
    "name": "ipython",
    "version": 3
   },
   "file_extension": ".py",
   "mimetype": "text/x-python",
   "name": "python",
   "nbconvert_exporter": "python",
   "pygments_lexer": "ipython3",
   "version": "3.6.10"
  }
 },
 "nbformat": 4,
 "nbformat_minor": 4
}
