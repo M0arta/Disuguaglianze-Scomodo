{
 "cells": [
  {
   "cell_type": "markdown",
   "metadata": {},
   "source": [
    "# Scientific Python\n",
    "## Central European University\n",
    "\n",
    "## 04 Pandas -- Exercises\n",
    "\n",
    "Instructor: Márton Pósfai, TA: Luka Blagojevic\n",
    "\n",
    "Email: posfaim@ceu.edu, Blagojevic_Luka@phd.ceu.edu"
   ]
  },
  {
   "cell_type": "markdown",
   "metadata": {},
   "source": [
    "*Don't forget:* use the Slack channel for discussion, to ask questions, or to show solutions to exercises that are different from the ones provided in the notebook. [Slack channel](http://www.personal.ceu.edu/staff/Marton_Posfai/slack_forward.html)"
   ]
  },
  {
   "cell_type": "code",
   "execution_count": null,
   "metadata": {},
   "outputs": [],
   "source": [
    "import pandas as pd\n",
    "import numpy as np\n",
    "import matplotlib.pyplot as plt"
   ]
  },
  {
   "cell_type": "markdown",
   "metadata": {},
   "source": [
    "### 0th exercise: Guess the number of objects the best as you can!\n",
    "\n",
    "Fill out this form:\n",
    "https://forms.office.com/r/92S4n7tuJx\n",
    "\n",
    "The answers to this form will be used for the final problem, meaning that everyone will see everyone's guesses: so you can use your own name or a fake name."
   ]
  },
  {
   "cell_type": "markdown",
   "metadata": {},
   "source": [
    "### 01 Series apply\n",
    "\n",
    "You can create pandas series from a dictionary `D` by simply using `S=pd.Series(D)`, the indices of the series will be the keys of the dictionary.\n",
    "\n",
    "Convert the following dictionary to a series, then convert the extinction years to an integer such that BC years are negative.\n",
    "\n",
    "<details><summary><u>Hint</u></summary>\n",
    "<p>\n",
    "\n",
    "Define a function that takes a string containing the extinction year as input and converts it to an integer. Then apply this function to the series using the `apply()` method.\n",
    "    \n",
    "</p>\n",
    "</details>"
   ]
  },
  {
   "cell_type": "code",
   "execution_count": null,
   "metadata": {
    "scrolled": true
   },
   "outputs": [],
   "source": [
    "D = {'Cave bear': '27,000 BC', 'Tyrannosaurus rex': '68,000,000 BC',\n",
    "     'Passenger pidgeon': '1914', 'Dodo': '1681', 'Small pox': '1980',\n",
    "     'Pinta giant tortoise': '2012','Maui nukupuʻu':'1994', 'Alagoas foliage-gleaner':'2011'}"
   ]
  },
  {
   "cell_type": "markdown",
   "metadata": {},
   "source": [
    "<details><summary><u>Solution.</u></summary>\n",
    "<p>\n",
    "    \n",
    "```python\n",
    "S = pd.Series(D)\n",
    "\n",
    "def convert_year(s):\n",
    "    year = int(s.replace(',','').replace('BC',''))\n",
    "    if 'BC' in s:\n",
    "        year = -year\n",
    "    return year\n",
    "\n",
    "S=S.apply(convert_year)\n",
    "```\n",
    "    \n",
    "</p>\n",
    "</details>"
   ]
  },
  {
   "cell_type": "markdown",
   "metadata": {},
   "source": [
    "### 02 Series\n",
    "\n",
    "Using the series from the previous exercise, create three series:\n",
    "* one that only contains animals that went extinct during your lifetime\n",
    "* one that contains the first three elements of the series\n",
    "* one that is indexed by the extinction year and the values are the species names\n",
    "\n",
    "<details><summary><u>Hint</u></summary>\n",
    "<p>\n",
    "\n",
    "* Define a `mask` that compares the extinction to your birth year and use `S[mask]`.\n",
    "* Use slicing as we did for lists and numpy arrays\n",
    "* You can access the indices of a series using `S.index` and the values of a series using `S.values`. Create a new series as we did in the second example at the beginning of the class notebook, just swap the indices and values.\n",
    "    \n",
    "</p>\n",
    "</details>"
   ]
  },
  {
   "cell_type": "code",
   "execution_count": null,
   "metadata": {
    "scrolled": true
   },
   "outputs": [],
   "source": []
  },
  {
   "cell_type": "markdown",
   "metadata": {},
   "source": [
    "<details><summary><u>Solution.</u></summary>\n",
    "<p>\n",
    "    \n",
    "```python\n",
    "S1 = S[S>=1985]\n",
    "print(S1)\n",
    "\n",
    "S2 = S[:3]\n",
    "print(S2)\n",
    "\n",
    "S3 = pd.Series(S.index,index=S.values)\n",
    "print(S3)\n",
    "```\n",
    "    \n",
    "</p>\n",
    "</details>"
   ]
  },
  {
   "cell_type": "markdown",
   "metadata": {},
   "source": [
    "### 03 Dataframe\n",
    "\n",
    "This exercise has many parts:\n",
    "* Create a dataframe from the three dictionaries provided below and rename the columns to reflect their contents.\n",
    "\n",
    "<details><summary><u>Hint</u></summary>\n",
    "<p>\n",
    "\n",
    "You can create the dataframe as we did in the actor rating example in the class notebook. Or you can search online for creating a dataframe from a list of dictionaries.\n",
    "    \n",
    "</p>\n",
    "</details>"
   ]
  },
  {
   "cell_type": "code",
   "execution_count": null,
   "metadata": {},
   "outputs": [],
   "source": [
    "mass = {\n",
    "    'MERCURY':0.330,'VENUS':4.87,'EARTH':5.97,'MARS':0.642,\n",
    "    'JUPITER':1898,'SATURN':568,'URANUS':86.8,'NEPTUNE':102,'PLUTO':0.0146} #measured in 10**24 kgs\n",
    "diameter = {\n",
    "    'MERCURY':4879,'VENUS':12104,'EARTH':12756,'MARS':6792,\n",
    "    'JUPITER':142984,'SATURN':120536,'URANUS':51118,'NEPTUNE':49528,'PLUTO':2370} #measured in kms\n",
    "num_moons= {\n",
    "    'MERCURY':0,'VENUS':0,'EARTH':1,'MARS':2,\n",
    "    'JUPITER':79,'SATURN':82,'URANUS':27,'NEPTUNE':14,'PLUTO':5}\n"
   ]
  },
  {
   "cell_type": "markdown",
   "metadata": {},
   "source": [
    "<details><summary><u>Solution.</u></summary>\n",
    "<p>\n",
    "    \n",
    "```python\n",
    "df_planets = pd.DataFrame([mass,diameter,num_moons]).T\n",
    "df_planets.columns=['mass','diameter','num_moons']\n",
    "df_planets\n",
    "```\n",
    "    \n",
    "</p>\n",
    "</details>"
   ]
  },
  {
   "cell_type": "markdown",
   "metadata": {},
   "source": [
    "* Create a new column called `'confirmed_life'` which is `True` if you know for a fact that the corresponding planet contains life, and `False` otherwise.\n",
    "\n",
    "<details><summary><u>Hint</u></summary>\n",
    "<p>\n",
    "\n",
    "There are many ways to do this, for example, using `apply()` and a lambda function; or first create the new column with all `False` values and then only change the value of Earth.\n",
    "</p>\n",
    "</details>"
   ]
  },
  {
   "cell_type": "code",
   "execution_count": null,
   "metadata": {
    "scrolled": true
   },
   "outputs": [],
   "source": []
  },
  {
   "cell_type": "markdown",
   "metadata": {},
   "source": [
    "<details><summary><u>Solution.</u></summary>\n",
    "<p>\n",
    "    \n",
    "```python\n",
    "df_planets['confirmed_life']=False\n",
    "df_planets.loc['EARTH','confirmed_life']=True\n",
    "df_planets\n",
    "```\n",
    "    \n",
    "</p>\n",
    "</details>"
   ]
  },
  {
   "cell_type": "markdown",
   "metadata": {},
   "source": [
    "* Create a new column that contains the density of the planets measured in $kg/m^3$.\n",
    "\n",
    "<details><summary><u>Hint</u></summary>\n",
    "<p>\n",
    "\n",
    "Simple operations such as division and powers get applied to columns elementwise.\n",
    "    \n",
    "</p>\n",
    "</details>"
   ]
  },
  {
   "cell_type": "code",
   "execution_count": null,
   "metadata": {},
   "outputs": [],
   "source": []
  },
  {
   "cell_type": "markdown",
   "metadata": {},
   "source": [
    "<details><summary><u>Solution.</u></summary>\n",
    "<p>\n",
    "    \n",
    "```python\n",
    "df_planets['density']=df_planets['mass']*1e24/(np.pi/6*(1000*df_planets['diameter'])**3)\n",
    "df_planets\n",
    "```\n",
    "    \n",
    "</p>\n",
    "</details>"
   ]
  },
  {
   "cell_type": "markdown",
   "metadata": {},
   "source": [
    "* Pluto is no longer a planet, drop it from the dataframe without creating a new copy (check out `df.drop()` method).\n",
    "\n",
    "<details><summary><u>Hint</u></summary>\n",
    "<p>\n",
    "\n",
    "Make sure to specify that you are dropping the row in place, otherwise a new dataframe is created.\n",
    "</p>\n",
    "</details>"
   ]
  },
  {
   "cell_type": "code",
   "execution_count": null,
   "metadata": {},
   "outputs": [],
   "source": []
  },
  {
   "cell_type": "markdown",
   "metadata": {},
   "source": [
    "<details><summary><u>Solution.</u></summary>\n",
    "<p>\n",
    "    \n",
    "```python\n",
    "df_planets.drop('PLUTO',inplace=True)\n",
    "df_planets\n",
    "```\n",
    "    \n",
    "</p>\n",
    "</details>"
   ]
  },
  {
   "cell_type": "markdown",
   "metadata": {},
   "source": [
    "* Create a new dataframe that only contains the `'mass'` and `'num_moons'` column, and only contains the planets that are lighter than Earth.\n",
    "\n",
    "<details><summary><u>Hint</u></summary>\n",
    "<p>\n",
    "\n",
    "You can select a subset of the columns using `df[list_of_columns]`.\n",
    "</p>\n",
    "</details>"
   ]
  },
  {
   "cell_type": "code",
   "execution_count": null,
   "metadata": {},
   "outputs": [],
   "source": []
  },
  {
   "cell_type": "markdown",
   "metadata": {},
   "source": [
    "<details><summary><u>Solution.</u></summary>\n",
    "<p>\n",
    "    \n",
    "```python\n",
    "new_df_planets = df_planets[['mass','num_moons']][df_planets['mass']<df_planets['mass']['EARTH']]\n",
    "new_df_planets\n",
    "```\n",
    "    \n",
    "</p>\n",
    "</details>"
   ]
  },
  {
   "cell_type": "markdown",
   "metadata": {},
   "source": [
    "### Load the Titanic data\n",
    "\n",
    "The next exercises will use the Titanic data set."
   ]
  },
  {
   "cell_type": "code",
   "execution_count": null,
   "metadata": {},
   "outputs": [],
   "source": [
    "df = pd.read_csv('titanic.csv', header=0, sep=',')"
   ]
  },
  {
   "cell_type": "markdown",
   "metadata": {},
   "source": [
    "### 04 Subsetting\n",
    "\n",
    "Subset the Titanic data to include only passengers of unknown age and survived! Take a look at the `isnull()` method.\n",
    "\n",
    "<details><summary><u>Hint</u></summary>\n",
    "<p>\n",
    "\n",
    "To test if `Age` is `NaN`, write `df['Age'].isnull()`. You also have to check if `Survived` is equal to 1.\n",
    "\n",
    "</p>\n",
    "</details>"
   ]
  },
  {
   "cell_type": "code",
   "execution_count": null,
   "metadata": {
    "scrolled": true
   },
   "outputs": [],
   "source": []
  },
  {
   "cell_type": "markdown",
   "metadata": {},
   "source": [
    "<details><summary><u>Solution.</u></summary>\n",
    "<p>\n",
    "    \n",
    "```python\n",
    "survivors_unknown_age=df[df['Age'].isnull() & df['Survived']==1]\n",
    "survivors_unknown_age.head()\n",
    "```\n",
    "    \n",
    "</p>\n",
    "</details>"
   ]
  },
  {
   "cell_type": "markdown",
   "metadata": {},
   "source": [
    "### 05 New column -- Discussion exercise\n",
    "\n",
    "Create a new column, `family_on_board`, take into account both the SibSp and Parch columns.\n"
   ]
  },
  {
   "cell_type": "code",
   "execution_count": null,
   "metadata": {},
   "outputs": [],
   "source": []
  },
  {
   "cell_type": "markdown",
   "metadata": {},
   "source": [
    "**Share your solution on Slack. We will discuss the problem during class together.**"
   ]
  },
  {
   "cell_type": "markdown",
   "metadata": {},
   "source": [
    "### 06 Age histogram\n",
    "\n",
    "What is the distribution of ages? Plot the ages in a histogram.\n",
    "\n",
    "Advanced: try to combine the histogram with its kernel density estimate using `kind='kde'`.\n",
    "\n",
    "<details><summary><u>Hint</u></summary>\n",
    "<p>\n",
    "\n",
    "Scroll back to the first section, and check out how we plotted histograms for the actor ratings.\n",
    "\n",
    "Advanced:\n",
    "* Be sure to set `density=True` for the histogram, so that it matches with the kernel density estimate.\n",
    "* To plot both graphs on the same `axis` use the `ax` attribute.\n",
    "</p>\n",
    "</details>"
   ]
  },
  {
   "cell_type": "code",
   "execution_count": null,
   "metadata": {
    "scrolled": true
   },
   "outputs": [],
   "source": []
  },
  {
   "cell_type": "markdown",
   "metadata": {},
   "source": [
    "<details><summary><u>Solution.</u></summary>\n",
    "<p>\n",
    "    \n",
    "```python\n",
    "ax = df.plot(kind='hist',y='Age', alpha=.5, density=True);\n",
    "df.plot(kind='kde', y='Age', ax=ax);\n",
    "```\n",
    "    \n",
    "</p>\n",
    "</details>"
   ]
  },
  {
   "cell_type": "markdown",
   "metadata": {},
   "source": [
    "### 07 Grouping\n",
    "\n",
    "Figure out how to group by with multiple aggregation functions: use `groupby('Pclass')` and calculate the mean and variance of `Fare` and the count of `is_reverend`.\n",
    "\n",
    "<details><summary><u>Hint</u></summary>\n",
    "<p>\n",
    "    \n",
    "Look at the [documentation](https://pandas.pydata.org/pandas-docs/stable/reference/api/pandas.DataFrame.agg.html) of `agg()` or this [stackoverflow question](https://stackoverflow.com/questions/12589481/multiple-aggregations-of-the-same-column-using-pandas-groupby-agg).\n",
    "\n",
    "</p>\n",
    "</details>"
   ]
  },
  {
   "cell_type": "code",
   "execution_count": null,
   "metadata": {
    "scrolled": true
   },
   "outputs": [],
   "source": []
  },
  {
   "cell_type": "markdown",
   "metadata": {},
   "source": [
    "<details><summary><u>Solution.</u></summary>\n",
    "<p>\n",
    "    \n",
    "```python\n",
    "df.groupby(['Pclass'])[['Fare','is_reverend']].agg({'Fare':['mean','var'],'is_reverend':'sum'})\n",
    "```\n",
    "    \n",
    "</p>\n",
    "</details>"
   ]
  },
  {
   "cell_type": "markdown",
   "metadata": {},
   "source": [
    "### 08 Correlations\n",
    "Check out the documentation of the `corr()` method. Use it on the data and make some hypotheses: besides class and gender, what predicted survival? Plot the correlation between each column and `Survived` using a bar chart.\n",
    "\n",
    "<details><summary><u>Hint</u></summary>\n",
    "<p>\n",
    "\n",
    "The `df.corr()` function returns a symmetric dataframe, where the row and column names are the columns of `df`. To plot the correlation between `Survived` any every other column in `df`, just plot the `Survived` column of `df.corr()`.\n",
    "\n",
    "</p>\n",
    "</details>"
   ]
  },
  {
   "cell_type": "code",
   "execution_count": null,
   "metadata": {},
   "outputs": [],
   "source": []
  },
  {
   "cell_type": "markdown",
   "metadata": {},
   "source": [
    "<details><summary><u>Solution.</u></summary>\n",
    "<p>\n",
    "    \n",
    "```python\n",
    "corr_df = df.corr()\n",
    "#advanced: leave out 'Survived's correletion with itself\n",
    "corr_df[corr_df.index!=\"Survived\"].plot(kind='bar',y='Survived');\n",
    "corr_df\n",
    "```\n",
    "    \n",
    "</p>\n",
    "</details>"
   ]
  },
  {
   "cell_type": "markdown",
   "metadata": {},
   "source": [
    "### 09 Missing values and grouping\n",
    "\n",
    "Some ages are missing from the data. Are they missing at random?\n",
    "* Create a new colunm `unknown_age` that is `True` if the age is unknown and `False` if it is not missing.\n",
    "* Count the number of missing values in the `Age` column. \n",
    "* Count the probability that age is missing for different passenger classes `Pclass`\n",
    "* Fill in the missing values with an educated guess: set the age to be the average.\n",
    "\n",
    "Advanced: set the missing age to be the average of the passengers class.\n",
    "\n",
    "<details><summary><u>Hint</u></summary>\n",
    "<p>\n",
    "\n",
    "Check the part the class notebook where we made an educated guess for Mr. Bean's rating. \n",
    "\n",
    "</p>\n",
    "</details>"
   ]
  },
  {
   "cell_type": "code",
   "execution_count": null,
   "metadata": {},
   "outputs": [],
   "source": [
    "\n"
   ]
  },
  {
   "cell_type": "markdown",
   "metadata": {},
   "source": [
    "<details><summary><u>Solution.</u></summary>\n",
    "<p>\n",
    "    \n",
    "```python\n",
    "#count unknown age\n",
    "df['unknown_age']= df[\"Age\"].isnull()\n",
    "print(\"Number of passengers with unknown age:\", df['unknown_age'].sum() )\n",
    "\n",
    "#count the probability for each group\n",
    "print(df.groupby('Pclass')['unknown_age'].mean())\n",
    "\n",
    "#calculate average age\n",
    "avg_age = df['Age'].mean()\n",
    "print(avg_age)\n",
    "#fill NaNs with average\n",
    "df['Age'].fillna(avg_age)\n",
    "```\n",
    "    \n",
    "</p>\n",
    "</details>\n",
    "\n",
    "<details><summary><u>Solution advanced.</u></summary>\n",
    "<p>\n",
    "    \n",
    "```python\n",
    "\n",
    "#calculate average age in each class\n",
    "avg_age_by_pclass = df.groupby('Pclass')['Age'].mean()\n",
    "print(avg_age_by_pclass[1])\n",
    "\n",
    "#create a series with guessed age for each unknown\n",
    "age_guess = df[df['unknown_age']]['Pclass'].apply(lambda x: avg_age_by_pclass[x])\n",
    "#pass this series to the fillna() function\n",
    "df['Age'].fillna(age_guess)\n",
    "```\n",
    "    \n",
    "</p>\n",
    "</details>"
   ]
  },
  {
   "cell_type": "markdown",
   "metadata": {},
   "source": [
    "### 10 Hungarian lotto data set\n",
    "\n",
    "The lottery craze is sweaping the nation! Calculate some statistics from the historical winning numbers and prizes of the Hungarian 5-out-of-90 lotto! The numbers are drawn weekly and you win a prize if you at least get 2 numbers correct.\n",
    "\n",
    "Load the file `hun_lotto_prizes.csv` containing the number of winners and prizes  since 1998, and the file `hun_lotto_winning_numbers.csv` containing the winning numbers for all the draws since 1955. Investigate the output of `df.head()`, what do the columns mean?\n",
    "\n",
    "<details><summary><u>Hint</u></summary>\n",
    "<p>\n",
    "\n",
    "These are simple csv files that you can load the usual way without a problem.\n",
    "\n",
    "</p>\n",
    "</details>"
   ]
  },
  {
   "cell_type": "code",
   "execution_count": null,
   "metadata": {},
   "outputs": [],
   "source": []
  },
  {
   "cell_type": "markdown",
   "metadata": {},
   "source": [
    "<details><summary><u>Solution.</u></summary>\n",
    "<p>\n",
    "    \n",
    "```python\n",
    "prizes = pd.read_csv('hun_lotto_prizes.csv')\n",
    "winning = pd.read_csv('hun_lotto_winning_numbers.csv')\n",
    "prizes.head()\n",
    "```\n",
    "\n",
    "Prizes file:\n",
    "* There are 4 rows for each weekly drawing. The `Week` column is the week of the year from 1 to 52\n",
    "* There is one row for each prize level that you can win. The `Matches` column gives the number of correct guesses on a ticket. You win a prize if you get at least 2 numbers correct, the jackpot is getting all five numbers correct.\n",
    "* The `Number_of_winning_tickets` contains the number of lotto tickets that week.\n",
    "* The `Prize` column contains the amount you win with the given number of `Matches`. If there is no jackpot that week, the prize appears as zero.\n",
    "    \n",
    "Winning numbers file:\n",
    "* There are five rows for each week, each containing one of five winning numbers.\n",
    "* `Win_number_index` indexes the five winning numberd from 1 to 5.\n",
    "* `Win_number` is the winning number that was drawn that week.\n",
    "    \n",
    "</p>\n",
    "</details>\n"
   ]
  },
  {
   "cell_type": "markdown",
   "metadata": {},
   "source": [
    "### 11 Luckiest year\n",
    "\n",
    "Which year was the most lucky? Using a bar chart plot the number of jackpots for each year!\n",
    "\n",
    "<details><summary><u>Hint</u></summary>\n",
    "<p>\n",
    "\n",
    "* Filter for jackpots (five matches).\n",
    "* Group by year.\n",
    "* Sum up number of winning tickets.\n",
    "* Use pandas bar plot.\n",
    "</p>\n",
    "</details>"
   ]
  },
  {
   "cell_type": "code",
   "execution_count": null,
   "metadata": {},
   "outputs": [],
   "source": []
  },
  {
   "cell_type": "markdown",
   "metadata": {},
   "source": [
    "<details><summary><u>Solution.</u></summary>\n",
    "<p>\n",
    "    \n",
    "```python\n",
    "prizes[prizes.Matches==5].groupby('Year')['Number_of_winning_tickets'].sum().plot(kind='bar');\n",
    "```\n",
    "\n",
    "</p>\n",
    "</details>\n"
   ]
  },
  {
   "cell_type": "markdown",
   "metadata": {},
   "source": [
    "### 12 Winning tickets vs prize\n",
    "\n",
    "What is the relationship between number of winning tickets and the prize money? Create a scatter plot to show the relationship for X matches, where you select X between 2 and 5.\n",
    "\n",
    "Advanced: Create a scatter plot that shows all matches from 2 to 5 with different colors.\n",
    "Which year was the most lucky? Using a bar chart plot the number of jackpots for each year!\n",
    "\n",
    "<details><summary><u>Hint</u></summary>\n",
    "<p>\n",
    "\n",
    "* The prizes are stored as strings, convert them to numbers to be able to plot with them.\n",
    "* Use pandas' scatter plot.\n",
    "</p>\n",
    "</details>\n",
    "\n",
    "\n",
    "<details><summary><u>Hint advanced</u></summary>\n",
    "<p>\n",
    "\n",
    "* The prize levels and number of winning tickets are order of magnitude different for different matches, to be able to meaning fully show them on a single plot, plot their logarithm! Create new columns containing their log.\n",
    "* The log of zero is undefined, replace 0s in your dataframe with `NaN` values.\n",
    "* For a quick plot, you can use seaborn's `jointplot`.\n",
    "</p>\n",
    "</details>"
   ]
  },
  {
   "cell_type": "code",
   "execution_count": null,
   "metadata": {},
   "outputs": [],
   "source": []
  },
  {
   "cell_type": "markdown",
   "metadata": {},
   "source": [
    "<details><summary><u>Solution.</u></summary>\n",
    "<p>\n",
    "    \n",
    "```python\n",
    "prizes.Prize = prizes.Prize.apply(lambda x: int(x.replace('Ft','').replace(' ','')))\n",
    "    \n",
    "X=4\n",
    "prizes[prizes.Matches==X].plot(x='Number_of_winning_tickets',y='Prize',kind='scatter');\n",
    "```\n",
    "\n",
    "</p>\n",
    "</details>\n",
    "\n",
    "\n",
    "<details><summary><u>Solution advanced.</u></summary>\n",
    "<p>\n",
    "    \n",
    "```python\n",
    "prizes.Prize.replace(0,np.nan,inplace=True)\n",
    "prizes.Number_of_winning_tickets.replace(0,np.nan,inplace=True)\n",
    "\n",
    "prizes['logPrize']=np.log(prizes.Prize)\n",
    "prizes['logNumber_of_winning_tickets']=np.log(prizes.Number_of_winning_tickets)\n",
    "\n",
    "import seaborn as sns\n",
    "\n",
    "g=sns.jointplot(data=prizes,x='logNumber_of_winning_tickets',y='logPrize',hue='Matches',kind='kde')\n",
    "\n",
    "```\n",
    "\n",
    "</p>\n",
    "</details>\n"
   ]
  },
  {
   "cell_type": "markdown",
   "metadata": {},
   "source": [
    "### 13 Maximes your return -- Discussion exercise\n",
    "\n",
    "How can you maximize your expected lotto win? Each number has the same chance of being drawn, but this does not mean that each number has the same payoff! Plot the mean prize value for two matches as a function of the winning number. Can you explain the pattern?"
   ]
  },
  {
   "cell_type": "code",
   "execution_count": null,
   "metadata": {},
   "outputs": [],
   "source": []
  },
  {
   "cell_type": "markdown",
   "metadata": {},
   "source": [
    "**Share your solution on Slack. We will discuss the problem during class together.**"
   ]
  },
  {
   "cell_type": "markdown",
   "metadata": {},
   "source": [
    "## Final problem\n",
    "\n",
    "Your submission will be graded based on correctness and simplicity. This does not mean that your code has to be the shortest possible, but that you should avoid unnecessary steps.\n",
    "\n",
    "You can find the results of the guessing game on moodle in a file containing four columns: the name of the guesser, the index of the question, the guess, and the academic term the guess was made. Download the file and load it as a dataframe. Do the following steps:\n",
    "* Clean and pre-process the data:\n",
    "    * The guesses should be integers but the form allowed any entry. Convert the guesses to integers, if it cannot be converted drop the row (check out `pd.to_numeric()`).\n",
    "    * Some internet trolls might tried to wreak havoc by submitting clearly wrong guesses. Drop any row that has a guess larger than 100,000 or less than 0.\n",
    "* Print out the mean guess for each image.\n",
    "* Print out the mean guess for each image but only considering guesses made this term.\n",
    "* The correct answers to the questions will be/already are posted on slack. Create a new column named 'dist_from_correct' in the dataframe containing the difference between the guess and the correct value. Pick one question and plot a histogram of this new column and add a vertical line corresponding to the group average guess (check out `plt.axvline()`)."
   ]
  },
  {
   "cell_type": "markdown",
   "metadata": {},
   "source": [
    "## Extra credit challenge -- Guess-the-data\n",
    "\n",
    "You find 4 csv files on Moodle that we have scrubbed from any identifying text. Explore these datasets using pandas by calculating statistics/making figures and guess what the data is! Upload a representative plot in support of your guess for each dataset. You receive the extra credit if you get at least three guesses right."
   ]
  },
  {
   "cell_type": "code",
   "execution_count": null,
   "metadata": {},
   "outputs": [],
   "source": []
  }
 ],
 "metadata": {
  "kernelspec": {
   "display_name": "Python 3",
   "language": "python",
   "name": "python3"
  },
  "language_info": {
   "codemirror_mode": {
    "name": "ipython",
    "version": 3
   },
   "file_extension": ".py",
   "mimetype": "text/x-python",
   "name": "python",
   "nbconvert_exporter": "python",
   "pygments_lexer": "ipython3",
   "version": "3.6.10"
  }
 },
 "nbformat": 4,
 "nbformat_minor": 4
}
